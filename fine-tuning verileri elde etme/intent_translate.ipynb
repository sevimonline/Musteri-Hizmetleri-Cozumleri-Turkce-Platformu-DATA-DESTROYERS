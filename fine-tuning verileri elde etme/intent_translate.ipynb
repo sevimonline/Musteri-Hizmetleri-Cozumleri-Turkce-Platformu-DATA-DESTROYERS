{
 "cells": [
  {
   "cell_type": "code",
   "execution_count": 1,
   "metadata": {},
   "outputs": [],
   "source": [
    "import pandas as pd\n",
    "df= pd.read_csv(\"english_intent.csv\")"
   ]
  },
  {
   "cell_type": "code",
   "execution_count": 3,
   "metadata": {},
   "outputs": [
    {
     "data": {
      "text/plain": [
       "'Please categorise the customer intent from the conversation below:\\n\\n###\\n\\nCustomer: i waant help to change to the gold account\\nThe intention is as follows:'"
      ]
     },
     "execution_count": 3,
     "metadata": {},
     "output_type": "execute_result"
    }
   ],
   "source": [
    "df[\"prompt\"][0]"
   ]
  },
  {
   "cell_type": "code",
   "execution_count": 4,
   "metadata": {},
   "outputs": [
    {
     "data": {
      "text/plain": [
       "'Please categorise the customer intent from the conversation below: \\n\\n###\\n\\nCustomer: what do I need to do to shop a  product?\\nThe intention is as follows:'"
      ]
     },
     "execution_count": 4,
     "metadata": {},
     "output_type": "execute_result"
    }
   ],
   "source": [
    "df[\"prompt\"][1]"
   ]
  },
  {
   "cell_type": "code",
   "execution_count": 5,
   "metadata": {},
   "outputs": [
    {
     "name": "stdout",
     "output_type": "stream",
     "text": [
      "      Unnamed: 0                                             prompt  \\\n",
      "0              0  Customer: i waant help to change to the gold a...   \n",
      "1              1  Customer: what do I need to do to shop a  prod...   \n",
      "2              2  Customer: i bought something cancel purchase 3...   \n",
      "3              3  Customer: can you show me what hours I can cal...   \n",
      "4              4  Customer: can I use the Premium account?\\nThe ...   \n",
      "...          ...                                                ...   \n",
      "1939        1939  Customer: editing account\\nThe intention is as...   \n",
      "1940        1940  Customer: delete Freemium account\\nThe intenti...   \n",
      "1941        1941  Customer: can I write a review for your servic...   \n",
      "1942        1942  Customer: help seeing order 732201349959 statu...   \n",
      "1943        1943  Customer: where is ordered 00004587345?\\nThe i...   \n",
      "\n",
      "                         completion  \n",
      "0                switch account END  \n",
      "1                   place order END  \n",
      "2                  cancel order END  \n",
      "3      contact customer service END  \n",
      "4                switch account END  \n",
      "...                             ...  \n",
      "1939               edit account END  \n",
      "1940             delete account END  \n",
      "1941                     review END  \n",
      "1942                track order END  \n",
      "1943                track order END  \n",
      "\n",
      "[1944 rows x 3 columns]\n"
     ]
    }
   ],
   "source": [
    "df['prompt'] = df['prompt'].str.split('###\\n\\nCustomer:').str[-1]\n",
    "df['prompt'] = 'Customer:' + df['prompt']\n",
    "\n",
    "print(df)"
   ]
  },
  {
   "cell_type": "code",
   "execution_count": 6,
   "metadata": {},
   "outputs": [
    {
     "data": {
      "text/html": [
       "<div>\n",
       "<style scoped>\n",
       "    .dataframe tbody tr th:only-of-type {\n",
       "        vertical-align: middle;\n",
       "    }\n",
       "\n",
       "    .dataframe tbody tr th {\n",
       "        vertical-align: top;\n",
       "    }\n",
       "\n",
       "    .dataframe thead th {\n",
       "        text-align: right;\n",
       "    }\n",
       "</style>\n",
       "<table border=\"1\" class=\"dataframe\">\n",
       "  <thead>\n",
       "    <tr style=\"text-align: right;\">\n",
       "      <th></th>\n",
       "      <th>Unnamed: 0</th>\n",
       "      <th>prompt</th>\n",
       "      <th>completion</th>\n",
       "    </tr>\n",
       "  </thead>\n",
       "  <tbody>\n",
       "    <tr>\n",
       "      <th>0</th>\n",
       "      <td>0</td>\n",
       "      <td>Customer: i waant help to change to the gold a...</td>\n",
       "      <td>switch account</td>\n",
       "    </tr>\n",
       "    <tr>\n",
       "      <th>1</th>\n",
       "      <td>1</td>\n",
       "      <td>Customer: what do I need to do to shop a  prod...</td>\n",
       "      <td>place order</td>\n",
       "    </tr>\n",
       "    <tr>\n",
       "      <th>2</th>\n",
       "      <td>2</td>\n",
       "      <td>Customer: i bought something cancel purchase 3...</td>\n",
       "      <td>cancel order</td>\n",
       "    </tr>\n",
       "    <tr>\n",
       "      <th>3</th>\n",
       "      <td>3</td>\n",
       "      <td>Customer: can you show me what hours I can cal...</td>\n",
       "      <td>contact customer service</td>\n",
       "    </tr>\n",
       "    <tr>\n",
       "      <th>4</th>\n",
       "      <td>4</td>\n",
       "      <td>Customer: can I use the Premium account?\\nThe ...</td>\n",
       "      <td>switch account</td>\n",
       "    </tr>\n",
       "  </tbody>\n",
       "</table>\n",
       "</div>"
      ],
      "text/plain": [
       "   Unnamed: 0                                             prompt  \\\n",
       "0           0  Customer: i waant help to change to the gold a...   \n",
       "1           1  Customer: what do I need to do to shop a  prod...   \n",
       "2           2  Customer: i bought something cancel purchase 3...   \n",
       "3           3  Customer: can you show me what hours I can cal...   \n",
       "4           4  Customer: can I use the Premium account?\\nThe ...   \n",
       "\n",
       "                  completion  \n",
       "0             switch account  \n",
       "1                place order  \n",
       "2               cancel order  \n",
       "3   contact customer service  \n",
       "4             switch account  "
      ]
     },
     "execution_count": 6,
     "metadata": {},
     "output_type": "execute_result"
    }
   ],
   "source": [
    "df['completion'] = df['completion'].str.replace(' END', '')\n",
    "df.head()"
   ]
  },
  {
   "cell_type": "code",
   "execution_count": 8,
   "metadata": {},
   "outputs": [
    {
     "data": {
      "text/plain": [
       "'Customer: could you help me solve a damn issue with payment?\\nThe intention is as follows:'"
      ]
     },
     "execution_count": 8,
     "metadata": {},
     "output_type": "execute_result"
    }
   ],
   "source": [
    "df[\"prompt\"][15]"
   ]
  },
  {
   "cell_type": "code",
   "execution_count": 10,
   "metadata": {},
   "outputs": [],
   "source": [
    "df['prompt'] = df['prompt'].str.extract(r'(Customer:.*)')\n"
   ]
  },
  {
   "cell_type": "code",
   "execution_count": 11,
   "metadata": {},
   "outputs": [
    {
     "data": {
      "text/plain": [
       "'Customer: could you help me solve a damn issue with payment?'"
      ]
     },
     "execution_count": 11,
     "metadata": {},
     "output_type": "execute_result"
    }
   ],
   "source": [
    "df[\"prompt\"][15]"
   ]
  },
  {
   "cell_type": "code",
   "execution_count": 12,
   "metadata": {},
   "outputs": [],
   "source": [
    "df.to_csv(\"english_intent2.csv\")"
   ]
  },
  {
   "cell_type": "code",
   "execution_count": 14,
   "metadata": {},
   "outputs": [
    {
     "name": "stderr",
     "output_type": "stream",
     "text": [
      "c:\\Users\\ASUS\\AppData\\Local\\Programs\\Python\\Python39\\lib\\site-packages\\transformers\\models\\marian\\tokenization_marian.py:175: UserWarning: Recommended: pip install sacremoses.\n",
      "  warnings.warn(\"Recommended: pip install sacremoses.\")\n"
     ]
    },
    {
     "name": "stdout",
     "output_type": "stream",
     "text": [
      "Çevrilmiş dosya 'turkish_intent2.csv' olarak kaydedildi.\n"
     ]
    }
   ],
   "source": [
    "import pandas as pd\n",
    "from transformers import MarianMTModel, MarianTokenizer\n",
    "\n",
    "data = pd.read_csv(\"english_intent2.csv\")\n",
    "\n",
    "model_name = 'Helsinki-NLP/opus-mt-tc-big-en-tr'\n",
    "tokenizer = MarianTokenizer.from_pretrained(model_name)\n",
    "model = MarianMTModel.from_pretrained(model_name)\n",
    "\n",
    "def translate_to_turkish(text):\n",
    "\n",
    "    translated = model.generate(**tokenizer(text, return_tensors=\"pt\", padding=True))\n",
    "\n",
    "    return [tokenizer.decode(t, skip_special_tokens=True) for t in translated]\n",
    "\n",
    "\n",
    "data['prompt_tr'] = data['prompt'].apply(lambda x: translate_to_turkish(x)[0])\n",
    "data['completion_tr'] = data['completion'].apply(lambda x: translate_to_turkish(x)[0])\n",
    "\n",
    "\n",
    "output_file_path = 'turkish_intent2.csv'\n",
    "data.to_csv(output_file_path, index=False)\n",
    "\n",
    "print(f\"Çevrilmiş dosya '{output_file_path}' olarak kaydedildi.\")\n"
   ]
  },
  {
   "cell_type": "code",
   "execution_count": 16,
   "metadata": {},
   "outputs": [],
   "source": [
    "df = pd.read_csv(\"turkish_intent2.csv\")"
   ]
  },
  {
   "cell_type": "code",
   "execution_count": 18,
   "metadata": {},
   "outputs": [
    {
     "data": {
      "text/html": [
       "<div>\n",
       "<style scoped>\n",
       "    .dataframe tbody tr th:only-of-type {\n",
       "        vertical-align: middle;\n",
       "    }\n",
       "\n",
       "    .dataframe tbody tr th {\n",
       "        vertical-align: top;\n",
       "    }\n",
       "\n",
       "    .dataframe thead th {\n",
       "        text-align: right;\n",
       "    }\n",
       "</style>\n",
       "<table border=\"1\" class=\"dataframe\">\n",
       "  <thead>\n",
       "    <tr style=\"text-align: right;\">\n",
       "      <th></th>\n",
       "      <th>Unnamed: 0.1</th>\n",
       "      <th>Unnamed: 0</th>\n",
       "      <th>prompt</th>\n",
       "      <th>completion</th>\n",
       "      <th>prompt_tr</th>\n",
       "      <th>completion_tr</th>\n",
       "    </tr>\n",
       "  </thead>\n",
       "  <tbody>\n",
       "    <tr>\n",
       "      <th>0</th>\n",
       "      <td>0</td>\n",
       "      <td>0</td>\n",
       "      <td>Customer: i waant help to change to the gold a...</td>\n",
       "      <td>switch account</td>\n",
       "      <td>Müşteri: Altın hesaba geçmek için yardımdan fe...</td>\n",
       "      <td>hesabı değiştir</td>\n",
       "    </tr>\n",
       "    <tr>\n",
       "      <th>1</th>\n",
       "      <td>1</td>\n",
       "      <td>1</td>\n",
       "      <td>Customer: what do I need to do to shop a  prod...</td>\n",
       "      <td>place order</td>\n",
       "      <td>Müşteri: Bir ürünü satın almak için ne yapmalı...</td>\n",
       "      <td>yer sırası</td>\n",
       "    </tr>\n",
       "    <tr>\n",
       "      <th>2</th>\n",
       "      <td>2</td>\n",
       "      <td>2</td>\n",
       "      <td>Customer: i bought something cancel purchase 3...</td>\n",
       "      <td>cancel order</td>\n",
       "      <td>Müşteri: Bir şey satın aldım satın almayı ipta...</td>\n",
       "      <td>Siparişi iptal et</td>\n",
       "    </tr>\n",
       "    <tr>\n",
       "      <th>3</th>\n",
       "      <td>3</td>\n",
       "      <td>3</td>\n",
       "      <td>Customer: can you show me what hours I can cal...</td>\n",
       "      <td>contact customer service</td>\n",
       "      <td>Müşteri: Bana müşteri yardımını hangi saatlerd...</td>\n",
       "      <td>müşteri hizmetleri ile iletişime geçin</td>\n",
       "    </tr>\n",
       "    <tr>\n",
       "      <th>4</th>\n",
       "      <td>4</td>\n",
       "      <td>4</td>\n",
       "      <td>Customer: can I use the Premium account?</td>\n",
       "      <td>switch account</td>\n",
       "      <td>Müşteri: Premium hesabı kullanabilir miyim?</td>\n",
       "      <td>hesabı değiştir</td>\n",
       "    </tr>\n",
       "  </tbody>\n",
       "</table>\n",
       "</div>"
      ],
      "text/plain": [
       "   Unnamed: 0.1  Unnamed: 0  \\\n",
       "0             0           0   \n",
       "1             1           1   \n",
       "2             2           2   \n",
       "3             3           3   \n",
       "4             4           4   \n",
       "\n",
       "                                              prompt  \\\n",
       "0  Customer: i waant help to change to the gold a...   \n",
       "1  Customer: what do I need to do to shop a  prod...   \n",
       "2  Customer: i bought something cancel purchase 3...   \n",
       "3  Customer: can you show me what hours I can cal...   \n",
       "4           Customer: can I use the Premium account?   \n",
       "\n",
       "                  completion  \\\n",
       "0             switch account   \n",
       "1                place order   \n",
       "2               cancel order   \n",
       "3   contact customer service   \n",
       "4             switch account   \n",
       "\n",
       "                                           prompt_tr  \\\n",
       "0  Müşteri: Altın hesaba geçmek için yardımdan fe...   \n",
       "1  Müşteri: Bir ürünü satın almak için ne yapmalı...   \n",
       "2  Müşteri: Bir şey satın aldım satın almayı ipta...   \n",
       "3  Müşteri: Bana müşteri yardımını hangi saatlerd...   \n",
       "4        Müşteri: Premium hesabı kullanabilir miyim?   \n",
       "\n",
       "                            completion_tr  \n",
       "0                         hesabı değiştir  \n",
       "1                              yer sırası  \n",
       "2                       Siparişi iptal et  \n",
       "3  müşteri hizmetleri ile iletişime geçin  \n",
       "4                         hesabı değiştir  "
      ]
     },
     "execution_count": 18,
     "metadata": {},
     "output_type": "execute_result"
    }
   ],
   "source": [
    "df.head()"
   ]
  },
  {
   "cell_type": "code",
   "execution_count": 19,
   "metadata": {},
   "outputs": [],
   "source": [
    "df = df[['prompt_tr', 'completion_tr']]"
   ]
  },
  {
   "cell_type": "code",
   "execution_count": 20,
   "metadata": {},
   "outputs": [
    {
     "data": {
      "text/html": [
       "<div>\n",
       "<style scoped>\n",
       "    .dataframe tbody tr th:only-of-type {\n",
       "        vertical-align: middle;\n",
       "    }\n",
       "\n",
       "    .dataframe tbody tr th {\n",
       "        vertical-align: top;\n",
       "    }\n",
       "\n",
       "    .dataframe thead th {\n",
       "        text-align: right;\n",
       "    }\n",
       "</style>\n",
       "<table border=\"1\" class=\"dataframe\">\n",
       "  <thead>\n",
       "    <tr style=\"text-align: right;\">\n",
       "      <th></th>\n",
       "      <th>prompt_tr</th>\n",
       "      <th>completion_tr</th>\n",
       "    </tr>\n",
       "  </thead>\n",
       "  <tbody>\n",
       "    <tr>\n",
       "      <th>0</th>\n",
       "      <td>Müşteri: Altın hesaba geçmek için yardımdan fe...</td>\n",
       "      <td>hesabı değiştir</td>\n",
       "    </tr>\n",
       "    <tr>\n",
       "      <th>1</th>\n",
       "      <td>Müşteri: Bir ürünü satın almak için ne yapmalı...</td>\n",
       "      <td>yer sırası</td>\n",
       "    </tr>\n",
       "    <tr>\n",
       "      <th>2</th>\n",
       "      <td>Müşteri: Bir şey satın aldım satın almayı ipta...</td>\n",
       "      <td>Siparişi iptal et</td>\n",
       "    </tr>\n",
       "    <tr>\n",
       "      <th>3</th>\n",
       "      <td>Müşteri: Bana müşteri yardımını hangi saatlerd...</td>\n",
       "      <td>müşteri hizmetleri ile iletişime geçin</td>\n",
       "    </tr>\n",
       "    <tr>\n",
       "      <th>4</th>\n",
       "      <td>Müşteri: Premium hesabı kullanabilir miyim?</td>\n",
       "      <td>hesabı değiştir</td>\n",
       "    </tr>\n",
       "    <tr>\n",
       "      <th>...</th>\n",
       "      <td>...</td>\n",
       "      <td>...</td>\n",
       "    </tr>\n",
       "    <tr>\n",
       "      <th>1939</th>\n",
       "      <td>Müşteri: düzenleme hesabı</td>\n",
       "      <td>Hesabı düzenle</td>\n",
       "    </tr>\n",
       "    <tr>\n",
       "      <th>1940</th>\n",
       "      <td>Müşteri: Freemium hesabını sil</td>\n",
       "      <td>hesabı sil</td>\n",
       "    </tr>\n",
       "    <tr>\n",
       "      <th>1941</th>\n",
       "      <td>Müşteri: Hizmetleriniz için bir inceleme yazab...</td>\n",
       "      <td>incele</td>\n",
       "    </tr>\n",
       "    <tr>\n",
       "      <th>1942</th>\n",
       "      <td>Müşteri: sipariş 732201349959 durumunu görmek ...</td>\n",
       "      <td>parça sırası</td>\n",
       "    </tr>\n",
       "    <tr>\n",
       "      <th>1943</th>\n",
       "      <td>Müşteri: 00004587345 nerede sipariş edilir?</td>\n",
       "      <td>parça sırası</td>\n",
       "    </tr>\n",
       "  </tbody>\n",
       "</table>\n",
       "<p>1944 rows × 2 columns</p>\n",
       "</div>"
      ],
      "text/plain": [
       "                                              prompt_tr  \\\n",
       "0     Müşteri: Altın hesaba geçmek için yardımdan fe...   \n",
       "1     Müşteri: Bir ürünü satın almak için ne yapmalı...   \n",
       "2     Müşteri: Bir şey satın aldım satın almayı ipta...   \n",
       "3     Müşteri: Bana müşteri yardımını hangi saatlerd...   \n",
       "4           Müşteri: Premium hesabı kullanabilir miyim?   \n",
       "...                                                 ...   \n",
       "1939                          Müşteri: düzenleme hesabı   \n",
       "1940                     Müşteri: Freemium hesabını sil   \n",
       "1941  Müşteri: Hizmetleriniz için bir inceleme yazab...   \n",
       "1942  Müşteri: sipariş 732201349959 durumunu görmek ...   \n",
       "1943        Müşteri: 00004587345 nerede sipariş edilir?   \n",
       "\n",
       "                               completion_tr  \n",
       "0                            hesabı değiştir  \n",
       "1                                 yer sırası  \n",
       "2                          Siparişi iptal et  \n",
       "3     müşteri hizmetleri ile iletişime geçin  \n",
       "4                            hesabı değiştir  \n",
       "...                                      ...  \n",
       "1939                          Hesabı düzenle  \n",
       "1940                              hesabı sil  \n",
       "1941                                  incele  \n",
       "1942                            parça sırası  \n",
       "1943                            parça sırası  \n",
       "\n",
       "[1944 rows x 2 columns]"
      ]
     },
     "execution_count": 20,
     "metadata": {},
     "output_type": "execute_result"
    }
   ],
   "source": [
    "df"
   ]
  },
  {
   "cell_type": "code",
   "execution_count": 21,
   "metadata": {},
   "outputs": [],
   "source": [
    "df.to_csv(\"türkçe_intent.csv\")"
   ]
  }
 ],
 "metadata": {
  "kernelspec": {
   "display_name": "Python 3",
   "language": "python",
   "name": "python3"
  },
  "language_info": {
   "codemirror_mode": {
    "name": "ipython",
    "version": 3
   },
   "file_extension": ".py",
   "mimetype": "text/x-python",
   "name": "python",
   "nbconvert_exporter": "python",
   "pygments_lexer": "ipython3",
   "version": "3.9.1"
  }
 },
 "nbformat": 4,
 "nbformat_minor": 2
}
