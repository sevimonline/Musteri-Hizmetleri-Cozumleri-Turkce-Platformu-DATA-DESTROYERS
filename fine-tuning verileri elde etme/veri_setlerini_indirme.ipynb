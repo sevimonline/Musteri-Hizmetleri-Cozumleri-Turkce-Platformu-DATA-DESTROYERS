{
 "cells": [
  {
   "cell_type": "code",
   "execution_count": 2,
   "metadata": {},
   "outputs": [
    {
     "name": "stdout",
     "output_type": "stream",
     "text": [
      "Dataset saved to data/turkish-fake-news-detection_train.csv\n",
      "Dataset saved to data/turkish-poem-generation_train.csv\n",
      "Dataset saved to data/xnli2.0_turkish_test.csv\n",
      "Dataset saved to data/xnli2.0_train_turkish_train.csv\n",
      "Dataset saved to data/turkishReviews-ds-mini_train.csv\n"
     ]
    },
    {
     "data": {
      "application/vnd.jupyter.widget-view+json": {
       "model_id": "c6b71b03b89742be88b4480f77443737",
       "version_major": 2,
       "version_minor": 0
      },
      "text/plain": [
       "Downloading readme:   0%|          | 0.00/497 [00:00<?, ?B/s]"
      ]
     },
     "metadata": {},
     "output_type": "display_data"
    },
    {
     "name": "stderr",
     "output_type": "stream",
     "text": [
      "Downloading data: 100%|██████████| 1.81M/1.81M [00:02<00:00, 625kB/s]\n",
      "Downloading data: 100%|██████████| 203k/203k [00:01<00:00, 166kB/s]\n"
     ]
    },
    {
     "data": {
      "application/vnd.jupyter.widget-view+json": {
       "model_id": "9c1cab3a8cbd43e585ac252f4148a641",
       "version_major": 2,
       "version_minor": 0
      },
      "text/plain": [
       "Generating train split:   0%|          | 0/7584 [00:00<?, ? examples/s]"
      ]
     },
     "metadata": {},
     "output_type": "display_data"
    },
    {
     "data": {
      "application/vnd.jupyter.widget-view+json": {
       "model_id": "9384ea0bc5cd433ca2e5f12bac245de8",
       "version_major": 2,
       "version_minor": 0
      },
      "text/plain": [
       "Generating validation split:   0%|          | 0/843 [00:00<?, ? examples/s]"
      ]
     },
     "metadata": {},
     "output_type": "display_data"
    },
    {
     "name": "stdout",
     "output_type": "stream",
     "text": [
      "Dataset saved to data/turkishReviews-ds-mini_train.csv\n"
     ]
    },
    {
     "data": {
      "application/vnd.jupyter.widget-view+json": {
       "model_id": "391920c5f87a4f0dacd0aafd55833f1f",
       "version_major": 2,
       "version_minor": 0
      },
      "text/plain": [
       "Downloading readme:   0%|          | 0.00/455 [00:00<?, ?B/s]"
      ]
     },
     "metadata": {},
     "output_type": "display_data"
    },
    {
     "name": "stderr",
     "output_type": "stream",
     "text": [
      "Downloading data: 100%|██████████| 150k/150k [00:01<00:00, 109kB/s]\n",
      "Downloading data: 100%|██████████| 20.8k/20.8k [00:00<00:00, 24.3kB/s]\n"
     ]
    },
    {
     "data": {
      "application/vnd.jupyter.widget-view+json": {
       "model_id": "3b34232a076648a8a00292ad1865f49a",
       "version_major": 2,
       "version_minor": 0
      },
      "text/plain": [
       "Generating train split:   0%|          | 0/738 [00:00<?, ? examples/s]"
      ]
     },
     "metadata": {},
     "output_type": "display_data"
    },
    {
     "data": {
      "application/vnd.jupyter.widget-view+json": {
       "model_id": "a26cef9d18c841c88176a8449a8acc69",
       "version_major": 2,
       "version_minor": 0
      },
      "text/plain": [
       "Generating validation split:   0%|          | 0/82 [00:00<?, ? examples/s]"
      ]
     },
     "metadata": {},
     "output_type": "display_data"
    },
    {
     "name": "stdout",
     "output_type": "stream",
     "text": [
      "Dataset saved to data/turkishKuran_train.csv\n"
     ]
    },
    {
     "data": {
      "application/vnd.jupyter.widget-view+json": {
       "model_id": "912dd99298f4467eb48448f89a4aef64",
       "version_major": 2,
       "version_minor": 0
      },
      "text/plain": [
       "Downloading readme:   0%|          | 0.00/503 [00:00<?, ?B/s]"
      ]
     },
     "metadata": {},
     "output_type": "display_data"
    },
    {
     "name": "stderr",
     "output_type": "stream",
     "text": [
      "Downloading data: 100%|██████████| 86.4M/86.4M [00:13<00:00, 6.28MB/s]\n",
      "Downloading data: 100%|██████████| 9.61M/9.61M [00:02<00:00, 3.68MB/s]\n"
     ]
    },
    {
     "data": {
      "application/vnd.jupyter.widget-view+json": {
       "model_id": "2efa27ea0c104c5a9d3078495c3d65d8",
       "version_major": 2,
       "version_minor": 0
      },
      "text/plain": [
       "Generating train split:   0%|          | 0/362520 [00:00<?, ? examples/s]"
      ]
     },
     "metadata": {},
     "output_type": "display_data"
    },
    {
     "data": {
      "application/vnd.jupyter.widget-view+json": {
       "model_id": "7c7b2d0b4562457f9158ca42af78ce58",
       "version_major": 2,
       "version_minor": 0
      },
      "text/plain": [
       "Generating validation split:   0%|          | 0/40281 [00:00<?, ? examples/s]"
      ]
     },
     "metadata": {},
     "output_type": "display_data"
    },
    {
     "name": "stdout",
     "output_type": "stream",
     "text": [
      "Dataset saved to data/turkishReviews-ds-mini_train.csv\n"
     ]
    },
    {
     "data": {
      "application/vnd.jupyter.widget-view+json": {
       "model_id": "6bb90714366547ef8034b5b466f65ad7",
       "version_major": 2,
       "version_minor": 0
      },
      "text/plain": [
       "Downloading readme:   0%|          | 0.00/188 [00:00<?, ?B/s]"
      ]
     },
     "metadata": {},
     "output_type": "display_data"
    },
    {
     "name": "stderr",
     "output_type": "stream",
     "text": [
      "Downloading data: 100%|██████████| 849k/849k [00:01<00:00, 561kB/s]\n",
      "Downloading data: 100%|██████████| 198k/198k [00:00<00:00, 460kB/s]\n"
     ]
    },
    {
     "data": {
      "application/vnd.jupyter.widget-view+json": {
       "model_id": "5ce316591caa44d0bfa89836fe67dc08",
       "version_major": 2,
       "version_minor": 0
      },
      "text/plain": [
       "Generating train split: 0 examples [00:00, ? examples/s]"
      ]
     },
     "metadata": {},
     "output_type": "display_data"
    },
    {
     "data": {
      "application/vnd.jupyter.widget-view+json": {
       "model_id": "d68f7cd5de1e4120a058bc305855eb50",
       "version_major": 2,
       "version_minor": 0
      },
      "text/plain": [
       "Generating test split: 0 examples [00:00, ? examples/s]"
      ]
     },
     "metadata": {},
     "output_type": "display_data"
    },
    {
     "name": "stdout",
     "output_type": "stream",
     "text": [
      "Dataset saved to data/turkish-sentiment-dataset_train.csv\n"
     ]
    },
    {
     "data": {
      "application/vnd.jupyter.widget-view+json": {
       "model_id": "905e24b4dfe34342a6b24a473b7f6e5c",
       "version_major": 2,
       "version_minor": 0
      },
      "text/plain": [
       "Downloading readme:   0%|          | 0.00/495 [00:00<?, ?B/s]"
      ]
     },
     "metadata": {},
     "output_type": "display_data"
    },
    {
     "name": "stderr",
     "output_type": "stream",
     "text": [
      "Downloading data: 100%|██████████| 804k/804k [00:01<00:00, 544kB/s]\n",
      "Downloading data: 100%|██████████| 91.8k/91.8k [00:01<00:00, 79.6kB/s]\n"
     ]
    },
    {
     "data": {
      "application/vnd.jupyter.widget-view+json": {
       "model_id": "5888e4547cfd4bafbd0fe0d55437e0c4",
       "version_major": 2,
       "version_minor": 0
      },
      "text/plain": [
       "Generating train split:   0%|          | 0/3378 [00:00<?, ? examples/s]"
      ]
     },
     "metadata": {},
     "output_type": "display_data"
    },
    {
     "data": {
      "application/vnd.jupyter.widget-view+json": {
       "model_id": "c0b88210feba49e0a9fd00c800c65076",
       "version_major": 2,
       "version_minor": 0
      },
      "text/plain": [
       "Generating validation split:   0%|          | 0/376 [00:00<?, ? examples/s]"
      ]
     },
     "metadata": {},
     "output_type": "display_data"
    },
    {
     "name": "stdout",
     "output_type": "stream",
     "text": [
      "Dataset saved to data/turkishReviews-ds-mini_train.csv\n"
     ]
    },
    {
     "data": {
      "application/vnd.jupyter.widget-view+json": {
       "model_id": "cda84c554ae043daad591e70631f7d68",
       "version_major": 2,
       "version_minor": 0
      },
      "text/plain": [
       "Downloading readme:   0%|          | 0.00/496 [00:00<?, ?B/s]"
      ]
     },
     "metadata": {},
     "output_type": "display_data"
    },
    {
     "name": "stderr",
     "output_type": "stream",
     "text": [
      "Downloading data: 100%|██████████| 804k/804k [00:01<00:00, 554kB/s]\n",
      "Downloading data: 100%|██████████| 91.8k/91.8k [00:01<00:00, 84.2kB/s]\n"
     ]
    },
    {
     "data": {
      "application/vnd.jupyter.widget-view+json": {
       "model_id": "e048281da99b4ec8a64eddebabf5becd",
       "version_major": 2,
       "version_minor": 0
      },
      "text/plain": [
       "Generating train split:   0%|          | 0/3378 [00:00<?, ? examples/s]"
      ]
     },
     "metadata": {},
     "output_type": "display_data"
    },
    {
     "data": {
      "application/vnd.jupyter.widget-view+json": {
       "model_id": "6389736ce72547d498b4a25f4751b911",
       "version_major": 2,
       "version_minor": 0
      },
      "text/plain": [
       "Generating validation split:   0%|          | 0/376 [00:00<?, ? examples/s]"
      ]
     },
     "metadata": {},
     "output_type": "display_data"
    },
    {
     "name": "stdout",
     "output_type": "stream",
     "text": [
      "Dataset saved to data/turkishReviews-ds-mini2_train.csv\n"
     ]
    },
    {
     "data": {
      "application/vnd.jupyter.widget-view+json": {
       "model_id": "2967c5ffe6884a8293f3db2d108584d2",
       "version_major": 2,
       "version_minor": 0
      },
      "text/plain": [
       "Downloading readme:   0%|          | 0.00/2.91k [00:00<?, ?B/s]"
      ]
     },
     "metadata": {},
     "output_type": "display_data"
    },
    {
     "data": {
      "application/vnd.jupyter.widget-view+json": {
       "model_id": "b2629fd5b56448ccb9790a032c5d3aa5",
       "version_major": 2,
       "version_minor": 0
      },
      "text/plain": [
       "Resolving data files:   0%|          | 0/38 [00:00<?, ?it/s]"
      ]
     },
     "metadata": {},
     "output_type": "display_data"
    },
    {
     "name": "stderr",
     "output_type": "stream",
     "text": [
      "Downloading data: 100%|██████████| 9.17k/9.17k [00:00<00:00, 52.9kB/s]\n",
      "Downloading data: 100%|██████████| 8.19k/8.19k [00:00<00:00, 49.2kB/s]\n",
      "Downloading data: 100%|██████████| 5.19k/5.19k [00:00<00:00, 26.7kB/s]\n",
      "Downloading data: 100%|██████████| 5.17k/5.17k [00:00<00:00, 29.6kB/s]\n",
      "Downloading data: 100%|██████████| 10.1k/10.1k [00:00<00:00, 59.6kB/s]\n",
      "Downloading data: 100%|██████████| 10.1k/10.1k [00:00<00:00, 60.6kB/s]\n",
      "Downloading data: 100%|██████████| 1.45k/1.45k [00:00<00:00, 8.70kB/s]\n",
      "Downloading data: 100%|██████████| 1.43k/1.43k [00:00<00:00, 8.19kB/s]\n",
      "Downloading data: 100%|██████████| 939/939 [00:00<00:00, 5.64kB/s]\n",
      "Downloading data: 100%|██████████| 920/920 [00:00<00:00, 5.52kB/s]\n",
      "Downloading data: 100%|██████████| 7.98k/7.98k [00:00<00:00, 45.7kB/s]\n",
      "Downloading data: 100%|██████████| 7.95k/7.95k [00:00<00:00, 44.9kB/s]\n",
      "Downloading data: 100%|██████████| 9.89k/9.89k [00:00<00:00, 56.8kB/s]\n",
      "Downloading data: 100%|██████████| 9.87k/9.87k [00:00<00:00, 59.2kB/s]\n",
      "Downloading data: 100%|██████████| 4.96k/4.96k [00:00<00:00, 29.7kB/s]\n",
      "Downloading data: 100%|██████████| 4.92k/4.92k [00:00<00:00, 28.2kB/s]\n",
      "Downloading data: 100%|██████████| 1.81k/1.81k [00:00<00:00, 10.4kB/s]\n",
      "Downloading data: 100%|██████████| 1.79k/1.79k [00:00<00:00, 10.7kB/s]\n",
      "Downloading data: 100%|██████████| 844/844 [00:00<00:00, 4.86kB/s]\n",
      "Downloading data: 100%|██████████| 823/823 [00:00<00:00, 4.73kB/s]\n",
      "Downloading data: 100%|██████████| 4.16k/4.16k [00:00<00:00, 23.9kB/s]\n",
      "Downloading data: 100%|██████████| 4.04k/4.04k [00:00<00:00, 23.2kB/s]\n",
      "Downloading data: 100%|██████████| 3.86k/3.86k [00:00<00:00, 22.2kB/s]\n",
      "Downloading data: 100%|██████████| 3.75k/3.75k [00:00<00:00, 22.5kB/s]\n",
      "Downloading data: 100%|██████████| 20.8k/20.8k [00:00<00:00, 120kB/s]\n",
      "Downloading data: 100%|██████████| 8.44k/8.44k [00:00<00:00, 48.9kB/s]\n",
      "Downloading data: 100%|██████████| 8.55k/8.55k [00:00<00:00, 41.5kB/s]\n",
      "Downloading data: 100%|██████████| 8.84k/8.84k [00:00<00:00, 51.0kB/s]\n",
      "Downloading data: 100%|██████████| 6.71k/6.71k [00:00<00:00, 40.2kB/s]\n",
      "Downloading data: 100%|██████████| 8.89k/8.89k [00:00<00:00, 52.6kB/s]\n",
      "Downloading data: 100%|██████████| 6.46k/6.46k [00:00<00:00, 37.1kB/s]\n",
      "Downloading data: 100%|██████████| 1.49k/1.49k [00:00<00:00, 8.90kB/s]\n",
      "Downloading data: 100%|██████████| 804/804 [00:00<00:00, 4.82kB/s]\n",
      "Downloading data: 100%|██████████| 785/785 [00:00<00:00, 4.72kB/s]\n",
      "Downloading data: 100%|██████████| 751/751 [00:00<00:00, 4.49kB/s]\n",
      "Downloading data: 100%|██████████| 797/797 [00:00<00:00, 4.78kB/s]\n",
      "Downloading data: 100%|██████████| 780/780 [00:00<00:00, 4.49kB/s]\n",
      "Downloading data: 100%|██████████| 748/748 [00:00<00:00, 4.29kB/s]\n"
     ]
    },
    {
     "data": {
      "application/vnd.jupyter.widget-view+json": {
       "model_id": "53c73a0c1d334734978e1a24c81c0609",
       "version_major": 2,
       "version_minor": 0
      },
      "text/plain": [
       "Generating train split: 0 examples [00:00, ? examples/s]"
      ]
     },
     "metadata": {},
     "output_type": "display_data"
    },
    {
     "name": "stdout",
     "output_type": "stream",
     "text": [
      "Dataset saved to data/Bias-Evaluation-Turkish_train.csv\n"
     ]
    },
    {
     "data": {
      "application/vnd.jupyter.widget-view+json": {
       "model_id": "b1a3c7d6c6094475b8d34bae1c86dc9c",
       "version_major": 2,
       "version_minor": 0
      },
      "text/plain": [
       "Downloading readme:   0%|          | 0.00/491 [00:00<?, ?B/s]"
      ]
     },
     "metadata": {},
     "output_type": "display_data"
    },
    {
     "name": "stderr",
     "output_type": "stream",
     "text": [
      "Downloading data: 100%|██████████| 804k/804k [00:01<00:00, 559kB/s]\n",
      "Downloading data: 100%|██████████| 91.8k/91.8k [00:01<00:00, 88.1kB/s]\n"
     ]
    },
    {
     "data": {
      "application/vnd.jupyter.widget-view+json": {
       "model_id": "6d7f696e66d24197a2f16a0b4499b7f7",
       "version_major": 2,
       "version_minor": 0
      },
      "text/plain": [
       "Generating train split:   0%|          | 0/3378 [00:00<?, ? examples/s]"
      ]
     },
     "metadata": {},
     "output_type": "display_data"
    },
    {
     "data": {
      "application/vnd.jupyter.widget-view+json": {
       "model_id": "e8c2123958fd416abcb19d2e3598af35",
       "version_major": 2,
       "version_minor": 0
      },
      "text/plain": [
       "Generating validation split:   0%|          | 0/376 [00:00<?, ? examples/s]"
      ]
     },
     "metadata": {},
     "output_type": "display_data"
    },
    {
     "name": "stdout",
     "output_type": "stream",
     "text": [
      "Dataset saved to data/turkishReviews-ds-mini1_train.csv\n"
     ]
    },
    {
     "data": {
      "application/vnd.jupyter.widget-view+json": {
       "model_id": "e3a70f5d924d456aa68c4a4feb4097fd",
       "version_major": 2,
       "version_minor": 0
      },
      "text/plain": [
       "Downloading readme:   0%|          | 0.00/839 [00:00<?, ?B/s]"
      ]
     },
     "metadata": {},
     "output_type": "display_data"
    },
    {
     "name": "stderr",
     "output_type": "stream",
     "text": [
      "Downloading data: 100%|██████████| 50.3k/50.3k [00:00<00:00, 56.2kB/s]\n",
      "Downloading data: 100%|██████████| 9.61k/9.61k [00:00<00:00, 12.1kB/s]\n"
     ]
    },
    {
     "data": {
      "application/vnd.jupyter.widget-view+json": {
       "model_id": "1d81d951bb054babb32addc8ba69edf5",
       "version_major": 2,
       "version_minor": 0
      },
      "text/plain": [
       "Generating train split:   0%|          | 0/765 [00:00<?, ? examples/s]"
      ]
     },
     "metadata": {},
     "output_type": "display_data"
    },
    {
     "data": {
      "application/vnd.jupyter.widget-view+json": {
       "model_id": "87a329ee4fa94c4897320732ce82143c",
       "version_major": 2,
       "version_minor": 0
      },
      "text/plain": [
       "Generating validation split:   0%|          | 0/85 [00:00<?, ? examples/s]"
      ]
     },
     "metadata": {},
     "output_type": "display_data"
    },
    {
     "name": "stdout",
     "output_type": "stream",
     "text": [
      "Dataset saved to data/turkishSMS-ds_train.csv\n"
     ]
    },
    {
     "data": {
      "application/vnd.jupyter.widget-view+json": {
       "model_id": "725612b6a5a1450892967f9e08b10ac3",
       "version_major": 2,
       "version_minor": 0
      },
      "text/plain": [
       "Downloading readme:   0%|          | 0.00/490 [00:00<?, ?B/s]"
      ]
     },
     "metadata": {},
     "output_type": "display_data"
    },
    {
     "name": "stderr",
     "output_type": "stream",
     "text": [
      "Downloading data: 100%|██████████| 804k/804k [00:01<00:00, 534kB/s]\n",
      "Downloading data: 100%|██████████| 92.2k/92.2k [00:01<00:00, 85.6kB/s]\n"
     ]
    },
    {
     "data": {
      "application/vnd.jupyter.widget-view+json": {
       "model_id": "20f2d5c5d0c64bbe87a87ad535a59ae5",
       "version_major": 2,
       "version_minor": 0
      },
      "text/plain": [
       "Generating train split:   0%|          | 0/3378 [00:00<?, ? examples/s]"
      ]
     },
     "metadata": {},
     "output_type": "display_data"
    },
    {
     "data": {
      "application/vnd.jupyter.widget-view+json": {
       "model_id": "fba8a450c0f14010a3b15c1d0115d352",
       "version_major": 2,
       "version_minor": 0
      },
      "text/plain": [
       "Generating validation split:   0%|          | 0/376 [00:00<?, ? examples/s]"
      ]
     },
     "metadata": {},
     "output_type": "display_data"
    },
    {
     "name": "stdout",
     "output_type": "stream",
     "text": [
      "Dataset saved to data/turkishReviews-ds-mini_train.csv\n"
     ]
    },
    {
     "data": {
      "application/vnd.jupyter.widget-view+json": {
       "model_id": "45619bf56a5a436db427777909eefcb6",
       "version_major": 2,
       "version_minor": 0
      },
      "text/plain": [
       "Downloading readme:   0%|          | 0.00/495 [00:00<?, ?B/s]"
      ]
     },
     "metadata": {},
     "output_type": "display_data"
    },
    {
     "name": "stderr",
     "output_type": "stream",
     "text": [
      "Downloading data: 100%|██████████| 804k/804k [00:01<00:00, 560kB/s]\n",
      "Downloading data: 100%|██████████| 92.2k/92.2k [00:01<00:00, 86.7kB/s]\n"
     ]
    },
    {
     "data": {
      "application/vnd.jupyter.widget-view+json": {
       "model_id": "85f7a1cb872b4c4f91b500b133e1686c",
       "version_major": 2,
       "version_minor": 0
      },
      "text/plain": [
       "Generating train split:   0%|          | 0/3378 [00:00<?, ? examples/s]"
      ]
     },
     "metadata": {},
     "output_type": "display_data"
    },
    {
     "data": {
      "application/vnd.jupyter.widget-view+json": {
       "model_id": "f0e75b4364f54b0d9d000b7994894696",
       "version_major": 2,
       "version_minor": 0
      },
      "text/plain": [
       "Generating validation split:   0%|          | 0/376 [00:00<?, ? examples/s]"
      ]
     },
     "metadata": {},
     "output_type": "display_data"
    },
    {
     "name": "stdout",
     "output_type": "stream",
     "text": [
      "Dataset saved to data/turkishReviews-ds-mini_train.csv\n"
     ]
    },
    {
     "data": {
      "application/vnd.jupyter.widget-view+json": {
       "model_id": "8175fd2b1f5b4eb48e28fb1bc7e6e791",
       "version_major": 2,
       "version_minor": 0
      },
      "text/plain": [
       "Downloading readme:   0%|          | 0.00/495 [00:00<?, ?B/s]"
      ]
     },
     "metadata": {},
     "output_type": "display_data"
    },
    {
     "name": "stderr",
     "output_type": "stream",
     "text": [
      "Downloading data: 100%|██████████| 804k/804k [00:01<00:00, 546kB/s]\n",
      "Downloading data: 100%|██████████| 92.2k/92.2k [00:01<00:00, 78.9kB/s]\n"
     ]
    },
    {
     "data": {
      "application/vnd.jupyter.widget-view+json": {
       "model_id": "5c2039e21cac44b5a7f5cceb50715dd4",
       "version_major": 2,
       "version_minor": 0
      },
      "text/plain": [
       "Generating train split:   0%|          | 0/3378 [00:00<?, ? examples/s]"
      ]
     },
     "metadata": {},
     "output_type": "display_data"
    },
    {
     "data": {
      "application/vnd.jupyter.widget-view+json": {
       "model_id": "369dba4c0c33470b9adcd607d8f6ce1d",
       "version_major": 2,
       "version_minor": 0
      },
      "text/plain": [
       "Generating validation split:   0%|          | 0/376 [00:00<?, ? examples/s]"
      ]
     },
     "metadata": {},
     "output_type": "display_data"
    },
    {
     "name": "stdout",
     "output_type": "stream",
     "text": [
      "Dataset saved to data/turkishReviews-project_train.csv\n"
     ]
    },
    {
     "data": {
      "application/vnd.jupyter.widget-view+json": {
       "model_id": "6b5379c762ca4d148772fc4152ca1039",
       "version_major": 2,
       "version_minor": 0
      },
      "text/plain": [
       "Downloading readme:   0%|          | 0.00/506 [00:00<?, ?B/s]"
      ]
     },
     "metadata": {},
     "output_type": "display_data"
    },
    {
     "name": "stderr",
     "output_type": "stream",
     "text": [
      "Downloading data: 100%|██████████| 902k/902k [00:01<00:00, 622kB/s]\n",
      "Downloading data: 100%|██████████| 103k/103k [00:00<00:00, 257kB/s]\n"
     ]
    },
    {
     "data": {
      "application/vnd.jupyter.widget-view+json": {
       "model_id": "b08ba6d09c9b4b858ce65563be167e07",
       "version_major": 2,
       "version_minor": 0
      },
      "text/plain": [
       "Generating train split:   0%|          | 0/3795 [00:00<?, ? examples/s]"
      ]
     },
     "metadata": {},
     "output_type": "display_data"
    },
    {
     "data": {
      "application/vnd.jupyter.widget-view+json": {
       "model_id": "f43a30453c074d9eb9a2b38af060c73a",
       "version_major": 2,
       "version_minor": 0
      },
      "text/plain": [
       "Generating validation split:   0%|          | 0/422 [00:00<?, ? examples/s]"
      ]
     },
     "metadata": {},
     "output_type": "display_data"
    },
    {
     "name": "stdout",
     "output_type": "stream",
     "text": [
      "Dataset saved to data/turkishReviews-ds-textGeneration_train.csv\n"
     ]
    },
    {
     "data": {
      "application/vnd.jupyter.widget-view+json": {
       "model_id": "f0962292add0470ca228527796887ffc",
       "version_major": 2,
       "version_minor": 0
      },
      "text/plain": [
       "Downloading readme:   0%|          | 0.00/28.0 [00:00<?, ?B/s]"
      ]
     },
     "metadata": {},
     "output_type": "display_data"
    },
    {
     "name": "stderr",
     "output_type": "stream",
     "text": [
      "Downloading data: 100%|██████████| 21.2M/21.2M [00:03<00:00, 5.58MB/s]\n"
     ]
    },
    {
     "data": {
      "application/vnd.jupyter.widget-view+json": {
       "model_id": "d45588f3a8c0439eb536f84194444257",
       "version_major": 2,
       "version_minor": 0
      },
      "text/plain": [
       "Generating train split: 0 examples [00:00, ? examples/s]"
      ]
     },
     "metadata": {},
     "output_type": "display_data"
    },
    {
     "name": "stdout",
     "output_type": "stream",
     "text": [
      "Dataset saved to data/turkish_instructions_train.csv\n"
     ]
    },
    {
     "data": {
      "application/vnd.jupyter.widget-view+json": {
       "model_id": "abc1c33bdc5b4e0ebfb6e9e9eb8f227d",
       "version_major": 2,
       "version_minor": 0
      },
      "text/plain": [
       "Downloading readme:   0%|          | 0.00/21.0 [00:00<?, ?B/s]"
      ]
     },
     "metadata": {},
     "output_type": "display_data"
    },
    {
     "name": "stderr",
     "output_type": "stream",
     "text": [
      "Downloading data: 100%|██████████| 26.4M/26.4M [00:04<00:00, 5.59MB/s]\n"
     ]
    },
    {
     "data": {
      "application/vnd.jupyter.widget-view+json": {
       "model_id": "2fb5397a91c3455c9091db26315bc67b",
       "version_major": 2,
       "version_minor": 0
      },
      "text/plain": [
       "Generating train split: 0 examples [00:00, ? examples/s]"
      ]
     },
     "metadata": {},
     "output_type": "display_data"
    },
    {
     "name": "stdout",
     "output_type": "stream",
     "text": [
      "Dataset saved to data/Turkish-Dialog-Dataset_train.csv\n"
     ]
    },
    {
     "data": {
      "application/vnd.jupyter.widget-view+json": {
       "model_id": "80ef94d9c124467993efc0d9fccff673",
       "version_major": 2,
       "version_minor": 0
      },
      "text/plain": [
       "Downloading readme:   0%|          | 0.00/22.0 [00:00<?, ?B/s]"
      ]
     },
     "metadata": {},
     "output_type": "display_data"
    },
    {
     "name": "stderr",
     "output_type": "stream",
     "text": [
      "Downloading data: 100%|██████████| 1.06M/1.06M [00:00<00:00, 2.18MB/s]\n"
     ]
    },
    {
     "data": {
      "application/vnd.jupyter.widget-view+json": {
       "model_id": "f111d20bcaf247cc969f2dd30a9367cc",
       "version_major": 2,
       "version_minor": 0
      },
      "text/plain": [
       "Generating train split: 0 examples [00:00, ? examples/s]"
      ]
     },
     "metadata": {},
     "output_type": "display_data"
    },
    {
     "name": "stdout",
     "output_type": "stream",
     "text": [
      "Dataset saved to data/tweets-turkish_train.csv\n"
     ]
    },
    {
     "data": {
      "application/vnd.jupyter.widget-view+json": {
       "model_id": "6fde046fc93d40cab2bfe64da5e79e45",
       "version_major": 2,
       "version_minor": 0
      },
      "text/plain": [
       "Downloading readme:   0%|          | 0.00/22.0 [00:00<?, ?B/s]"
      ]
     },
     "metadata": {},
     "output_type": "display_data"
    },
    {
     "name": "stderr",
     "output_type": "stream",
     "text": [
      "Downloading data: 100%|██████████| 1.06M/1.06M [00:00<00:00, 1.14MB/s]\n"
     ]
    },
    {
     "data": {
      "application/vnd.jupyter.widget-view+json": {
       "model_id": "248290b04a36466fb26eb7a58dcd96f8",
       "version_major": 2,
       "version_minor": 0
      },
      "text/plain": [
       "Generating train split: 0 examples [00:00, ? examples/s]"
      ]
     },
     "metadata": {},
     "output_type": "display_data"
    },
    {
     "name": "stdout",
     "output_type": "stream",
     "text": [
      "Dataset saved to data/turkish-news-categories_train.csv\n"
     ]
    },
    {
     "data": {
      "application/vnd.jupyter.widget-view+json": {
       "model_id": "59a139549e63499798910bca97785c94",
       "version_major": 2,
       "version_minor": 0
      },
      "text/plain": [
       "Downloading readme:   0%|          | 0.00/72.0 [00:00<?, ?B/s]"
      ]
     },
     "metadata": {},
     "output_type": "display_data"
    },
    {
     "name": "stderr",
     "output_type": "stream",
     "text": [
      "Repo card metadata block was not found. Setting CardData to empty.\n",
      "Downloading data: 100%|██████████| 22.2M/22.2M [00:10<00:00, 2.14MB/s]\n"
     ]
    },
    {
     "data": {
      "application/vnd.jupyter.widget-view+json": {
       "model_id": "68b0cf40fb6f43b1a9a5767850a1849d",
       "version_major": 2,
       "version_minor": 0
      },
      "text/plain": [
       "Generating train split: 0 examples [00:00, ? examples/s]"
      ]
     },
     "metadata": {},
     "output_type": "display_data"
    },
    {
     "name": "stdout",
     "output_type": "stream",
     "text": [
      "Dataset saved to data/turkishdataset_train.csv\n"
     ]
    },
    {
     "data": {
      "application/vnd.jupyter.widget-view+json": {
       "model_id": "36e2d00c366d44b9b46f89df86f9dc63",
       "version_major": 2,
       "version_minor": 0
      },
      "text/plain": [
       "Downloading readme:   0%|          | 0.00/496 [00:00<?, ?B/s]"
      ]
     },
     "metadata": {},
     "output_type": "display_data"
    },
    {
     "name": "stderr",
     "output_type": "stream",
     "text": [
      "Downloading data: 100%|██████████| 809k/809k [00:01<00:00, 529kB/s]\n",
      "Downloading data: 100%|██████████| 92.7k/92.7k [00:01<00:00, 83.4kB/s]\n"
     ]
    },
    {
     "data": {
      "application/vnd.jupyter.widget-view+json": {
       "model_id": "8adfa4f2c0ab414ba6a9b834f73c65f7",
       "version_major": 2,
       "version_minor": 0
      },
      "text/plain": [
       "Generating train split:   0%|          | 0/3378 [00:00<?, ? examples/s]"
      ]
     },
     "metadata": {},
     "output_type": "display_data"
    },
    {
     "data": {
      "application/vnd.jupyter.widget-view+json": {
       "model_id": "2d7109c158f24b999d3f8f315d2ede28",
       "version_major": 2,
       "version_minor": 0
      },
      "text/plain": [
       "Generating validation split:   0%|          | 0/376 [00:00<?, ? examples/s]"
      ]
     },
     "metadata": {},
     "output_type": "display_data"
    },
    {
     "name": "stdout",
     "output_type": "stream",
     "text": [
      "Dataset saved to data/turkishReviews-ds-mini_train.csv\n"
     ]
    },
    {
     "data": {
      "application/vnd.jupyter.widget-view+json": {
       "model_id": "84cc1a1ce0304faba8fe5b7b60b3a8d4",
       "version_major": 2,
       "version_minor": 0
      },
      "text/plain": [
       "Downloading readme:   0%|          | 0.00/535 [00:00<?, ?B/s]"
      ]
     },
     "metadata": {},
     "output_type": "display_data"
    },
    {
     "name": "stderr",
     "output_type": "stream",
     "text": [
      "Downloading data: 100%|██████████| 826k/826k [00:01<00:00, 454kB/s]\n",
      "Downloading data: 100%|██████████| 94.9k/94.9k [00:01<00:00, 86.5kB/s]\n"
     ]
    },
    {
     "data": {
      "application/vnd.jupyter.widget-view+json": {
       "model_id": "8ea003db55b14d57b7a4d848a9b563cb",
       "version_major": 2,
       "version_minor": 0
      },
      "text/plain": [
       "Generating train split:   0%|          | 0/3349 [00:00<?, ? examples/s]"
      ]
     },
     "metadata": {},
     "output_type": "display_data"
    },
    {
     "data": {
      "application/vnd.jupyter.widget-view+json": {
       "model_id": "6302877862a54eaca7b3b40bd61cccde",
       "version_major": 2,
       "version_minor": 0
      },
      "text/plain": [
       "Generating validation split:   0%|          | 0/373 [00:00<?, ? examples/s]"
      ]
     },
     "metadata": {},
     "output_type": "display_data"
    },
    {
     "name": "stdout",
     "output_type": "stream",
     "text": [
      "Dataset saved to data/turkishReviews-ds-mini_train.csv\n"
     ]
    },
    {
     "data": {
      "application/vnd.jupyter.widget-view+json": {
       "model_id": "976045e0438a4c03a23f9e2374743749",
       "version_major": 2,
       "version_minor": 0
      },
      "text/plain": [
       "Downloading readme:   0%|          | 0.00/495 [00:00<?, ?B/s]"
      ]
     },
     "metadata": {},
     "output_type": "display_data"
    },
    {
     "name": "stderr",
     "output_type": "stream",
     "text": [
      "Downloading data: 100%|██████████| 805k/805k [00:01<00:00, 524kB/s]\n",
      "Downloading data: 100%|██████████| 92.3k/92.3k [00:01<00:00, 87.4kB/s]\n"
     ]
    },
    {
     "data": {
      "application/vnd.jupyter.widget-view+json": {
       "model_id": "c76a5d5349fe424ab6c239771b2e104f",
       "version_major": 2,
       "version_minor": 0
      },
      "text/plain": [
       "Generating train split:   0%|          | 0/3378 [00:00<?, ? examples/s]"
      ]
     },
     "metadata": {},
     "output_type": "display_data"
    },
    {
     "data": {
      "application/vnd.jupyter.widget-view+json": {
       "model_id": "a2c5d17d5f624e648f77f60973f27274",
       "version_major": 2,
       "version_minor": 0
      },
      "text/plain": [
       "Generating validation split:   0%|          | 0/376 [00:00<?, ? examples/s]"
      ]
     },
     "metadata": {},
     "output_type": "display_data"
    },
    {
     "name": "stdout",
     "output_type": "stream",
     "text": [
      "Dataset saved to data/turkishReview-ds-mini_train.csv\n"
     ]
    },
    {
     "data": {
      "application/vnd.jupyter.widget-view+json": {
       "model_id": "71d0fa2b20094b5bbc6e3e4d649faefc",
       "version_major": 2,
       "version_minor": 0
      },
      "text/plain": [
       "Downloading readme:   0%|          | 0.00/123 [00:00<?, ?B/s]"
      ]
     },
     "metadata": {},
     "output_type": "display_data"
    },
    {
     "name": "stderr",
     "output_type": "stream",
     "text": [
      "Downloading data: 100%|██████████| 21.3M/21.3M [00:04<00:00, 5.00MB/s]\n"
     ]
    },
    {
     "data": {
      "application/vnd.jupyter.widget-view+json": {
       "model_id": "0ecdb0607b2f4b7d8d6e1aa7d49f76e9",
       "version_major": 2,
       "version_minor": 0
      },
      "text/plain": [
       "Generating train split: 0 examples [00:00, ? examples/s]"
      ]
     },
     "metadata": {},
     "output_type": "display_data"
    },
    {
     "name": "stdout",
     "output_type": "stream",
     "text": [
      "Dataset saved to data/turkish_instructions_train.csv\n"
     ]
    },
    {
     "data": {
      "application/vnd.jupyter.widget-view+json": {
       "model_id": "cf6da2f04af04fe8b8491483644b0647",
       "version_major": 2,
       "version_minor": 0
      },
      "text/plain": [
       "Downloading readme:   0%|          | 0.00/608 [00:00<?, ?B/s]"
      ]
     },
     "metadata": {},
     "output_type": "display_data"
    },
    {
     "name": "stderr",
     "output_type": "stream",
     "text": [
      "Downloading data: 100%|██████████| 32.6M/32.6M [00:05<00:00, 5.88MB/s]\n"
     ]
    },
    {
     "data": {
      "application/vnd.jupyter.widget-view+json": {
       "model_id": "ebc06f86058d4fd092805274fd2ea9d6",
       "version_major": 2,
       "version_minor": 0
      },
      "text/plain": [
       "Generating train split:   0%|          | 0/10000 [00:00<?, ? examples/s]"
      ]
     },
     "metadata": {},
     "output_type": "display_data"
    },
    {
     "name": "stdout",
     "output_type": "stream",
     "text": [
      "Dataset saved to data/Turkish-wikipedia-10k_train.csv\n"
     ]
    },
    {
     "data": {
      "application/vnd.jupyter.widget-view+json": {
       "model_id": "d7812f9081de428383545ccb96315c81",
       "version_major": 2,
       "version_minor": 0
      },
      "text/plain": [
       "Downloading readme:   0%|          | 0.00/541 [00:00<?, ?B/s]"
      ]
     },
     "metadata": {},
     "output_type": "display_data"
    },
    {
     "name": "stderr",
     "output_type": "stream",
     "text": [
      "Downloading data: 100%|██████████| 160M/160M [00:21<00:00, 7.32MB/s] \n"
     ]
    },
    {
     "data": {
      "application/vnd.jupyter.widget-view+json": {
       "model_id": "4965b84b7cfb4ebdb10d336076c8f485",
       "version_major": 2,
       "version_minor": 0
      },
      "text/plain": [
       "Generating train split:   0%|          | 0/50000 [00:00<?, ? examples/s]"
      ]
     },
     "metadata": {},
     "output_type": "display_data"
    },
    {
     "name": "stdout",
     "output_type": "stream",
     "text": [
      "Dataset saved to data/Turkish-wikipedia-50k_train.csv\n"
     ]
    },
    {
     "data": {
      "application/vnd.jupyter.widget-view+json": {
       "model_id": "1f6156fb5a6f48898d9f8c865e02e0a6",
       "version_major": 2,
       "version_minor": 0
      },
      "text/plain": [
       "Downloading readme:   0%|          | 0.00/543 [00:00<?, ?B/s]"
      ]
     },
     "metadata": {},
     "output_type": "display_data"
    },
    {
     "name": "stderr",
     "output_type": "stream",
     "text": [
      "Downloading data: 100%|██████████| 159M/159M [00:22<00:00, 7.11MB/s] \n",
      "Downloading data: 100%|██████████| 161M/161M [00:22<00:00, 6.99MB/s] \n"
     ]
    },
    {
     "data": {
      "application/vnd.jupyter.widget-view+json": {
       "model_id": "961cbb583df14aaba061500582a77e17",
       "version_major": 2,
       "version_minor": 0
      },
      "text/plain": [
       "Generating train split:   0%|          | 0/100000 [00:00<?, ? examples/s]"
      ]
     },
     "metadata": {},
     "output_type": "display_data"
    },
    {
     "name": "stdout",
     "output_type": "stream",
     "text": [
      "Dataset saved to data/Turkish-wikipedia-100k_train.csv\n"
     ]
    },
    {
     "data": {
      "application/vnd.jupyter.widget-view+json": {
       "model_id": "df01d22a644042078ba610ec285fbe76",
       "version_major": 2,
       "version_minor": 0
      },
      "text/plain": [
       "Downloading readme:   0%|          | 0.00/629 [00:00<?, ?B/s]"
      ]
     },
     "metadata": {},
     "output_type": "display_data"
    },
    {
     "name": "stderr",
     "output_type": "stream",
     "text": [
      "Downloading data: 100%|██████████| 7.98M/7.98M [00:02<00:00, 3.35MB/s]\n",
      "Downloading data: 100%|██████████| 891k/891k [00:01<00:00, 602kB/s]\n"
     ]
    },
    {
     "data": {
      "application/vnd.jupyter.widget-view+json": {
       "model_id": "93c56e863c9c49f59248062fceb07980",
       "version_major": 2,
       "version_minor": 0
      },
      "text/plain": [
       "Generating train split:   0%|          | 0/33637 [00:00<?, ? examples/s]"
      ]
     },
     "metadata": {},
     "output_type": "display_data"
    },
    {
     "data": {
      "application/vnd.jupyter.widget-view+json": {
       "model_id": "db78051d61794f1e8c69a89052e090a9",
       "version_major": 2,
       "version_minor": 0
      },
      "text/plain": [
       "Generating validation split:   0%|          | 0/3738 [00:00<?, ? examples/s]"
      ]
     },
     "metadata": {},
     "output_type": "display_data"
    },
    {
     "name": "stdout",
     "output_type": "stream",
     "text": [
      "Dataset saved to data/turkishReviews-ds-mini_train.csv\n"
     ]
    },
    {
     "data": {
      "application/vnd.jupyter.widget-view+json": {
       "model_id": "7500d103eeff42bbb06f37a8b48d0268",
       "version_major": 2,
       "version_minor": 0
      },
      "text/plain": [
       "Downloading readme:   0%|          | 0.00/118 [00:00<?, ?B/s]"
      ]
     },
     "metadata": {},
     "output_type": "display_data"
    },
    {
     "name": "stderr",
     "output_type": "stream",
     "text": [
      "Downloading data: 100%|██████████| 24.2M/24.2M [00:04<00:00, 5.34MB/s]\n"
     ]
    },
    {
     "data": {
      "application/vnd.jupyter.widget-view+json": {
       "model_id": "82ff65a8a7dd473bab57565e326569e7",
       "version_major": 2,
       "version_minor": 0
      },
      "text/plain": [
       "Generating train split: 0 examples [00:00, ? examples/s]"
      ]
     },
     "metadata": {},
     "output_type": "display_data"
    },
    {
     "name": "stdout",
     "output_type": "stream",
     "text": [
      "Dataset saved to data/Turkish-Alpaca_train.csv\n"
     ]
    },
    {
     "data": {
      "application/vnd.jupyter.widget-view+json": {
       "model_id": "df97acc40bd949959bed1f3422c27230",
       "version_major": 2,
       "version_minor": 0
      },
      "text/plain": [
       "Downloading readme:   0%|          | 0.00/148 [00:00<?, ?B/s]"
      ]
     },
     "metadata": {},
     "output_type": "display_data"
    },
    {
     "name": "stderr",
     "output_type": "stream",
     "text": [
      "Downloading data: 100%|██████████| 135/135 [00:00<00:00, 182B/s]\n",
      "Downloading data: 100%|██████████| 134/134 [00:00<00:00, 798B/s]\n",
      "Downloading data: 100%|██████████| 135/135 [00:00<00:00, 182B/s]\n"
     ]
    },
    {
     "data": {
      "application/vnd.jupyter.widget-view+json": {
       "model_id": "e19bbd38a9b84dbcb9b4075f7242c01e",
       "version_major": 2,
       "version_minor": 0
      },
      "text/plain": [
       "Generating train split: 0 examples [00:00, ? examples/s]"
      ]
     },
     "metadata": {},
     "output_type": "display_data"
    },
    {
     "data": {
      "application/vnd.jupyter.widget-view+json": {
       "model_id": "12c5b8af347a4b66bbeba5e8617ee3f9",
       "version_major": 2,
       "version_minor": 0
      },
      "text/plain": [
       "Generating validation split: 0 examples [00:00, ? examples/s]"
      ]
     },
     "metadata": {},
     "output_type": "display_data"
    },
    {
     "data": {
      "application/vnd.jupyter.widget-view+json": {
       "model_id": "8f9fad613e794abf99db8a3787e62ade",
       "version_major": 2,
       "version_minor": 0
      },
      "text/plain": [
       "Generating test split: 0 examples [00:00, ? examples/s]"
      ]
     },
     "metadata": {},
     "output_type": "display_data"
    },
    {
     "name": "stdout",
     "output_type": "stream",
     "text": [
      "Dataset saved to data/emotion-turkish_train.csv\n"
     ]
    },
    {
     "data": {
      "application/vnd.jupyter.widget-view+json": {
       "model_id": "66ab8c04abc14af7be685fb273a5c241",
       "version_major": 2,
       "version_minor": 0
      },
      "text/plain": [
       "Downloading readme:   0%|          | 0.00/125 [00:00<?, ?B/s]"
      ]
     },
     "metadata": {},
     "output_type": "display_data"
    },
    {
     "name": "stderr",
     "output_type": "stream",
     "text": [
      "Downloading data: 100%|██████████| 33.8M/33.8M [00:05<00:00, 6.37MB/s]\n"
     ]
    },
    {
     "data": {
      "application/vnd.jupyter.widget-view+json": {
       "model_id": "bbb14fbb123f4ffdae0d6d20e5d6aea0",
       "version_major": 2,
       "version_minor": 0
      },
      "text/plain": [
       "Generating train split: 0 examples [00:00, ? examples/s]"
      ]
     },
     "metadata": {},
     "output_type": "display_data"
    },
    {
     "name": "stdout",
     "output_type": "stream",
     "text": [
      "Dataset saved to data/turkish_movie_sentiment_train.csv\n"
     ]
    },
    {
     "data": {
      "application/vnd.jupyter.widget-view+json": {
       "model_id": "1a9f946bdfa742379c6ea78650db5b8c",
       "version_major": 2,
       "version_minor": 0
      },
      "text/plain": [
       "Downloading readme:   0%|          | 0.00/644 [00:00<?, ?B/s]"
      ]
     },
     "metadata": {},
     "output_type": "display_data"
    },
    {
     "name": "stderr",
     "output_type": "stream",
     "text": [
      "Downloading data: 100%|██████████| 804k/804k [00:01<00:00, 536kB/s]\n",
      "Downloading data: 100%|██████████| 92.2k/92.2k [00:01<00:00, 81.9kB/s]\n"
     ]
    },
    {
     "data": {
      "application/vnd.jupyter.widget-view+json": {
       "model_id": "d7dcec277696421482d9ca0ea55ab615",
       "version_major": 2,
       "version_minor": 0
      },
      "text/plain": [
       "Generating train split:   0%|          | 0/3378 [00:00<?, ? examples/s]"
      ]
     },
     "metadata": {},
     "output_type": "display_data"
    },
    {
     "data": {
      "application/vnd.jupyter.widget-view+json": {
       "model_id": "50d8c04f72f54d308d2906ed46f4b768",
       "version_major": 2,
       "version_minor": 0
      },
      "text/plain": [
       "Generating validation split:   0%|          | 0/376 [00:00<?, ? examples/s]"
      ]
     },
     "metadata": {},
     "output_type": "display_data"
    },
    {
     "name": "stdout",
     "output_type": "stream",
     "text": [
      "Dataset saved to data/turkishReviews-ds-mini_train.csv\n"
     ]
    },
    {
     "data": {
      "application/vnd.jupyter.widget-view+json": {
       "model_id": "057c250d7b9041d5b4147b60ae646038",
       "version_major": 2,
       "version_minor": 0
      },
      "text/plain": [
       "Downloading readme:   0%|          | 0.00/632 [00:00<?, ?B/s]"
      ]
     },
     "metadata": {},
     "output_type": "display_data"
    },
    {
     "name": "stderr",
     "output_type": "stream",
     "text": [
      "Downloading data: 100%|██████████| 282M/282M [00:35<00:00, 7.89MB/s] \n",
      "Downloading data: 100%|██████████| 203M/203M [00:24<00:00, 8.42MB/s] \n",
      "Downloading data: 100%|██████████| 145M/145M [00:18<00:00, 7.97MB/s] \n"
     ]
    },
    {
     "data": {
      "application/vnd.jupyter.widget-view+json": {
       "model_id": "a652458963a545c39f4ca049bbfdb4a6",
       "version_major": 2,
       "version_minor": 0
      },
      "text/plain": [
       "Generating train split:   0%|          | 0/524601 [00:00<?, ? examples/s]"
      ]
     },
     "metadata": {},
     "output_type": "display_data"
    },
    {
     "name": "stdout",
     "output_type": "stream",
     "text": [
      "Dataset saved to data/turkish_wikipedia_train.csv\n"
     ]
    },
    {
     "data": {
      "application/vnd.jupyter.widget-view+json": {
       "model_id": "576c1f52a6214078ad7b77e30985cc46",
       "version_major": 2,
       "version_minor": 0
      },
      "text/plain": [
       "Downloading readme:   0%|          | 0.00/123 [00:00<?, ?B/s]"
      ]
     },
     "metadata": {},
     "output_type": "display_data"
    },
    {
     "data": {
      "application/vnd.jupyter.widget-view+json": {
       "model_id": "714f9f14cd6b4d76979c08d43e2c023b",
       "version_major": 2,
       "version_minor": 0
      },
      "text/plain": [
       "Resolving data files:   0%|          | 0/126 [00:00<?, ?it/s]"
      ]
     },
     "metadata": {},
     "output_type": "display_data"
    },
    {
     "name": "stderr",
     "output_type": "stream",
     "text": [
      "Downloading data: 100%|██████████| 158M/158M [00:20<00:00, 7.67MB/s] \n",
      "Downloading data: 100%|██████████| 136M/136M [00:23<00:00, 5.78MB/s] \n",
      "Downloading data: 100%|██████████| 107M/107M [00:15<00:00, 6.88MB/s] \n",
      "Downloading data: 100%|██████████| 98.5M/98.5M [00:13<00:00, 7.28MB/s]\n",
      "Downloading data: 100%|██████████| 77.4M/77.4M [00:09<00:00, 7.95MB/s]\n",
      "Downloading data: 100%|██████████| 134M/134M [00:18<00:00, 7.11MB/s] \n",
      "Downloading data: 100%|██████████| 280M/280M [00:43<00:00, 6.45MB/s] \n",
      "Downloading data: 100%|██████████| 284M/284M [00:38<00:00, 7.45MB/s] \n",
      "Downloading data: 100%|██████████| 280M/280M [00:35<00:00, 7.79MB/s] \n",
      "Downloading data: 100%|██████████| 283M/283M [00:37<00:00, 7.47MB/s] \n",
      "Downloading data: 100%|██████████| 279M/279M [00:35<00:00, 7.95MB/s] \n",
      "Downloading data: 100%|██████████| 280M/280M [00:34<00:00, 8.07MB/s] \n",
      "Downloading data: 100%|██████████| 278M/278M [00:42<00:00, 6.59MB/s] \n",
      "Downloading data: 100%|██████████| 275M/275M [00:40<00:00, 6.77MB/s] \n",
      "Downloading data: 100%|██████████| 280M/280M [00:45<00:00, 6.09MB/s] \n",
      "Downloading data: 100%|██████████| 279M/279M [00:38<00:00, 7.18MB/s] \n",
      "Downloading data: 100%|██████████| 277M/277M [00:48<00:00, 5.76MB/s] \n",
      "Downloading data: 100%|██████████| 284M/284M [00:38<00:00, 7.40MB/s] \n",
      "Downloading data: 100%|██████████| 280M/280M [00:50<00:00, 5.57MB/s] \n",
      "Downloading data: 100%|██████████| 276M/276M [00:54<00:00, 5.02MB/s] \n",
      "Downloading data: 100%|██████████| 278M/278M [00:48<00:00, 5.73MB/s] \n",
      "Downloading data: 100%|██████████| 282M/282M [00:43<00:00, 6.45MB/s] \n",
      "Downloading data: 100%|██████████| 283M/283M [00:39<00:00, 7.19MB/s] \n",
      "Downloading data: 100%|██████████| 284M/284M [00:39<00:00, 7.24MB/s] \n",
      "Downloading data: 100%|██████████| 275M/275M [00:38<00:00, 7.11MB/s] \n",
      "Downloading data: 100%|██████████| 280M/280M [00:37<00:00, 7.43MB/s] \n",
      "Downloading data: 100%|██████████| 280M/280M [00:48<00:00, 5.76MB/s] \n",
      "Downloading data: 100%|██████████| 278M/278M [00:41<00:00, 6.75MB/s] \n",
      "Downloading data: 100%|██████████| 278M/278M [00:36<00:00, 7.69MB/s] \n",
      "Downloading data: 100%|██████████| 279M/279M [00:41<00:00, 6.69MB/s] \n",
      "Downloading data: 100%|██████████| 282M/282M [00:44<00:00, 6.34MB/s] \n",
      "Downloading data: 100%|██████████| 278M/278M [00:42<00:00, 6.59MB/s] \n",
      "Downloading data: 100%|██████████| 283M/283M [00:42<00:00, 6.60MB/s] \n",
      "Downloading data: 100%|██████████| 276M/276M [00:47<00:00, 5.78MB/s] \n",
      "Downloading data: 100%|██████████| 281M/281M [00:48<00:00, 5.76MB/s] \n",
      "Downloading data: 100%|██████████| 278M/278M [00:41<00:00, 6.62MB/s] \n",
      "Downloading data: 100%|██████████| 278M/278M [00:48<00:00, 5.70MB/s] \n",
      "Downloading data: 100%|██████████| 277M/277M [00:48<00:00, 5.66MB/s] \n",
      "Downloading data: 100%|██████████| 282M/282M [00:51<00:00, 5.50MB/s] \n",
      "Downloading data: 100%|██████████| 277M/277M [00:59<00:00, 4.63MB/s] \n",
      "Downloading data: 100%|██████████| 281M/281M [00:55<00:00, 5.07MB/s] \n",
      "Downloading data: 100%|██████████| 282M/282M [00:58<00:00, 4.84MB/s] \n",
      "Downloading data: 100%|██████████| 281M/281M [01:12<00:00, 3.89MB/s] \n",
      "Downloading data: 100%|██████████| 279M/279M [00:55<00:00, 5.06MB/s] \n",
      "Downloading data: 100%|██████████| 283M/283M [00:58<00:00, 4.87MB/s] \n",
      "Downloading data: 100%|██████████| 274M/274M [00:59<00:00, 4.61MB/s] \n",
      "Downloading data: 100%|██████████| 282M/282M [00:57<00:00, 4.87MB/s] \n",
      "Downloading data: 100%|██████████| 281M/281M [00:57<00:00, 4.84MB/s] \n",
      "Downloading data: 100%|██████████| 275M/275M [00:47<00:00, 5.83MB/s] \n",
      "Downloading data: 100%|██████████| 276M/276M [00:58<00:00, 4.69MB/s] \n",
      "Downloading data: 100%|██████████| 278M/278M [00:52<00:00, 5.26MB/s] \n",
      "Downloading data: 100%|██████████| 278M/278M [01:50<00:00, 2.51MB/s] \n",
      "Downloading data: 100%|██████████| 280M/280M [00:44<00:00, 6.29MB/s] \n",
      "Downloading data: 100%|██████████| 279M/279M [00:50<00:00, 5.48MB/s] \n",
      "Downloading data: 100%|██████████| 279M/279M [00:49<00:00, 5.68MB/s] \n",
      "Downloading data: 100%|██████████| 281M/281M [00:55<00:00, 5.09MB/s] \n",
      "Downloading data: 100%|██████████| 277M/277M [00:47<00:00, 5.88MB/s] \n",
      "Downloading data: 100%|██████████| 276M/276M [00:38<00:00, 7.26MB/s] \n",
      "Downloading data: 100%|██████████| 280M/280M [00:37<00:00, 7.42MB/s] \n",
      "Downloading data: 100%|██████████| 278M/278M [00:48<00:00, 5.76MB/s] \n",
      "Downloading data: 100%|██████████| 279M/279M [00:36<00:00, 7.55MB/s] \n",
      "Downloading data: 100%|██████████| 278M/278M [00:42<00:00, 6.54MB/s] \n",
      "Downloading data: 100%|██████████| 280M/280M [01:10<00:00, 3.96MB/s] \n",
      "Downloading data: 100%|██████████| 281M/281M [01:06<00:00, 4.24MB/s] \n",
      "Downloading data: 100%|██████████| 284M/284M [00:39<00:00, 7.12MB/s] \n",
      "Downloading data: 100%|██████████| 279M/279M [00:41<00:00, 6.75MB/s] \n",
      "Downloading data: 100%|██████████| 282M/282M [00:36<00:00, 7.64MB/s] \n",
      "Downloading data: 100%|██████████| 280M/280M [00:34<00:00, 8.12MB/s] \n",
      "Downloading data: 100%|██████████| 277M/277M [00:36<00:00, 7.65MB/s] \n",
      "Downloading data: 100%|██████████| 282M/282M [00:37<00:00, 7.57MB/s] \n",
      "Downloading data: 100%|██████████| 280M/280M [00:34<00:00, 8.24MB/s] \n",
      "Downloading data: 100%|██████████| 278M/278M [00:39<00:00, 7.08MB/s] \n",
      "Downloading data: 100%|██████████| 281M/281M [00:45<00:00, 6.11MB/s] \n",
      "Downloading data: 100%|██████████| 278M/278M [00:53<00:00, 5.21MB/s] \n",
      "Downloading data: 100%|██████████| 273M/273M [00:37<00:00, 7.21MB/s] \n",
      "Downloading data: 100%|██████████| 278M/278M [00:36<00:00, 7.58MB/s] \n",
      "Downloading data: 100%|██████████| 277M/277M [00:45<00:00, 6.11MB/s] \n",
      "Downloading data: 100%|██████████| 277M/277M [00:41<00:00, 6.74MB/s] \n",
      "Downloading data: 100%|██████████| 276M/276M [00:36<00:00, 7.51MB/s] \n",
      "Downloading data: 100%|██████████| 284M/284M [00:40<00:00, 7.03MB/s] \n",
      "Downloading data: 100%|██████████| 277M/277M [00:35<00:00, 7.78MB/s] \n",
      "Downloading data: 100%|██████████| 278M/278M [00:33<00:00, 8.24MB/s] \n",
      "Downloading data: 100%|██████████| 281M/281M [00:35<00:00, 7.87MB/s] \n",
      "Downloading data: 100%|██████████| 281M/281M [00:39<00:00, 7.17MB/s] \n",
      "Downloading data: 100%|██████████| 280M/280M [00:34<00:00, 8.20MB/s] \n",
      "Downloading data: 100%|██████████| 278M/278M [00:33<00:00, 8.41MB/s] \n",
      "Downloading data: 100%|██████████| 279M/279M [00:34<00:00, 8.20MB/s] \n",
      "Downloading data: 100%|██████████| 280M/280M [00:35<00:00, 7.80MB/s] \n",
      "Downloading data: 100%|██████████| 278M/278M [00:33<00:00, 8.37MB/s] \n",
      "Downloading data: 100%|██████████| 276M/276M [00:35<00:00, 7.77MB/s] \n",
      "Downloading data: 100%|██████████| 274M/274M [01:10<00:00, 3.87MB/s] \n",
      "Downloading data: 100%|██████████| 279M/279M [00:37<00:00, 7.46MB/s] \n",
      "Downloading data: 100%|██████████| 278M/278M [00:43<00:00, 6.43MB/s] \n",
      "Downloading data: 100%|██████████| 276M/276M [00:44<00:00, 6.28MB/s] \n",
      "Downloading data: 100%|██████████| 276M/276M [01:16<00:00, 3.61MB/s] \n",
      "Downloading data: 100%|██████████| 280M/280M [00:41<00:00, 6.73MB/s] \n",
      "Downloading data: 100%|██████████| 278M/278M [00:36<00:00, 7.51MB/s] \n",
      "Downloading data: 100%|██████████| 281M/281M [00:49<00:00, 5.72MB/s] \n",
      "Downloading data: 100%|██████████| 278M/278M [00:35<00:00, 7.88MB/s] \n",
      "Downloading data: 100%|██████████| 280M/280M [00:35<00:00, 7.91MB/s] \n",
      "Downloading data: 100%|██████████| 280M/280M [00:37<00:00, 7.55MB/s] \n",
      "Downloading data: 100%|██████████| 278M/278M [00:37<00:00, 7.46MB/s] \n",
      "Downloading data: 100%|██████████| 280M/280M [00:42<00:00, 6.59MB/s] \n",
      "Downloading data: 100%|██████████| 280M/280M [00:36<00:00, 7.76MB/s] \n",
      "Downloading data: 100%|██████████| 274M/274M [00:42<00:00, 6.53MB/s] \n",
      "Downloading data: 100%|██████████| 277M/277M [00:37<00:00, 7.30MB/s] \n",
      "Downloading data: 100%|██████████| 281M/281M [00:34<00:00, 8.16MB/s] \n",
      "Downloading data: 100%|██████████| 287M/287M [00:37<00:00, 7.60MB/s] \n",
      "Downloading data: 100%|██████████| 277M/277M [00:36<00:00, 7.55MB/s] \n",
      "Downloading data: 100%|██████████| 278M/278M [00:52<00:00, 5.25MB/s] \n",
      "Downloading data: 100%|██████████| 281M/281M [00:50<00:00, 5.53MB/s] \n",
      "Downloading data: 100%|██████████| 284M/284M [00:50<00:00, 5.64MB/s] \n",
      "Downloading data: 100%|██████████| 277M/277M [00:44<00:00, 6.21MB/s] \n",
      "Downloading data: 100%|██████████| 280M/280M [01:56<00:00, 2.40MB/s] \n",
      "Downloading data: 100%|██████████| 276M/276M [00:46<00:00, 5.97MB/s] \n",
      "Downloading data: 100%|██████████| 274M/274M [00:35<00:00, 7.72MB/s] \n",
      "Downloading data: 100%|██████████| 287M/287M [01:12<00:00, 3.94MB/s] \n",
      "Downloading data: 100%|██████████| 278M/278M [01:03<00:00, 4.35MB/s] \n",
      "Downloading data: 100%|██████████| 278M/278M [00:51<00:00, 5.36MB/s] \n",
      "Downloading data: 100%|██████████| 276M/276M [00:41<00:00, 6.65MB/s] \n",
      "Downloading data: 100%|██████████| 278M/278M [00:47<00:00, 5.92MB/s] \n",
      "Downloading data: 100%|██████████| 285M/285M [00:44<00:00, 6.35MB/s] \n",
      "Downloading data: 100%|██████████| 280M/280M [00:39<00:00, 7.11MB/s] \n",
      "Downloading data: 100%|██████████| 285M/285M [00:43<00:00, 6.60MB/s] \n",
      "Downloading data: 100%|██████████| 279M/279M [00:43<00:00, 6.39MB/s] \n",
      "Downloading data: 100%|██████████| 276M/276M [00:41<00:00, 6.62MB/s] \n"
     ]
    },
    {
     "data": {
      "application/vnd.jupyter.widget-view+json": {
       "model_id": "5cea470903924413a83180ab1dfbb28e",
       "version_major": 2,
       "version_minor": 0
      },
      "text/plain": [
       "Generating train split: 0 examples [00:00, ? examples/s]"
      ]
     },
     "metadata": {},
     "output_type": "display_data"
    },
    {
     "ename": "KeyboardInterrupt",
     "evalue": "",
     "output_type": "error",
     "traceback": [
      "\u001b[1;31m---------------------------------------------------------------------------\u001b[0m",
      "\u001b[1;31mKeyboardInterrupt\u001b[0m                         Traceback (most recent call last)",
      "Cell \u001b[1;32mIn[2], line 19\u001b[0m\n\u001b[0;32m     16\u001b[0m dataset_path \u001b[38;5;241m=\u001b[39m code_snippet[start_idx:end_idx]\n\u001b[0;32m     18\u001b[0m \u001b[38;5;66;03m# Load the dataset\u001b[39;00m\n\u001b[1;32m---> 19\u001b[0m ds \u001b[38;5;241m=\u001b[39m \u001b[43mload_dataset\u001b[49m\u001b[43m(\u001b[49m\u001b[43mdataset_path\u001b[49m\u001b[43m)\u001b[49m\n\u001b[0;32m     21\u001b[0m \u001b[38;5;66;03m# Check for the presence of the 'train' split or use the first available split\u001b[39;00m\n\u001b[0;32m     22\u001b[0m \u001b[38;5;28;01mif\u001b[39;00m \u001b[38;5;124m'\u001b[39m\u001b[38;5;124mtrain\u001b[39m\u001b[38;5;124m'\u001b[39m \u001b[38;5;129;01min\u001b[39;00m ds:\n",
      "File \u001b[1;32mc:\\Users\\ASUS\\AppData\\Local\\Programs\\Python\\Python39\\lib\\site-packages\\datasets\\load.py:2582\u001b[0m, in \u001b[0;36mload_dataset\u001b[1;34m(path, name, data_dir, data_files, split, cache_dir, features, download_config, download_mode, verification_mode, ignore_verifications, keep_in_memory, save_infos, revision, token, use_auth_token, task, streaming, num_proc, storage_options, trust_remote_code, **config_kwargs)\u001b[0m\n\u001b[0;32m   2579\u001b[0m try_from_hf_gcs \u001b[38;5;241m=\u001b[39m path \u001b[38;5;129;01mnot\u001b[39;00m \u001b[38;5;129;01min\u001b[39;00m _PACKAGED_DATASETS_MODULES\n\u001b[0;32m   2581\u001b[0m \u001b[38;5;66;03m# Download and prepare data\u001b[39;00m\n\u001b[1;32m-> 2582\u001b[0m \u001b[43mbuilder_instance\u001b[49m\u001b[38;5;241;43m.\u001b[39;49m\u001b[43mdownload_and_prepare\u001b[49m\u001b[43m(\u001b[49m\n\u001b[0;32m   2583\u001b[0m \u001b[43m    \u001b[49m\u001b[43mdownload_config\u001b[49m\u001b[38;5;241;43m=\u001b[39;49m\u001b[43mdownload_config\u001b[49m\u001b[43m,\u001b[49m\n\u001b[0;32m   2584\u001b[0m \u001b[43m    \u001b[49m\u001b[43mdownload_mode\u001b[49m\u001b[38;5;241;43m=\u001b[39;49m\u001b[43mdownload_mode\u001b[49m\u001b[43m,\u001b[49m\n\u001b[0;32m   2585\u001b[0m \u001b[43m    \u001b[49m\u001b[43mverification_mode\u001b[49m\u001b[38;5;241;43m=\u001b[39;49m\u001b[43mverification_mode\u001b[49m\u001b[43m,\u001b[49m\n\u001b[0;32m   2586\u001b[0m \u001b[43m    \u001b[49m\u001b[43mtry_from_hf_gcs\u001b[49m\u001b[38;5;241;43m=\u001b[39;49m\u001b[43mtry_from_hf_gcs\u001b[49m\u001b[43m,\u001b[49m\n\u001b[0;32m   2587\u001b[0m \u001b[43m    \u001b[49m\u001b[43mnum_proc\u001b[49m\u001b[38;5;241;43m=\u001b[39;49m\u001b[43mnum_proc\u001b[49m\u001b[43m,\u001b[49m\n\u001b[0;32m   2588\u001b[0m \u001b[43m    \u001b[49m\u001b[43mstorage_options\u001b[49m\u001b[38;5;241;43m=\u001b[39;49m\u001b[43mstorage_options\u001b[49m\u001b[43m,\u001b[49m\n\u001b[0;32m   2589\u001b[0m \u001b[43m\u001b[49m\u001b[43m)\u001b[49m\n\u001b[0;32m   2591\u001b[0m \u001b[38;5;66;03m# Build dataset for splits\u001b[39;00m\n\u001b[0;32m   2592\u001b[0m keep_in_memory \u001b[38;5;241m=\u001b[39m (\n\u001b[0;32m   2593\u001b[0m     keep_in_memory \u001b[38;5;28;01mif\u001b[39;00m keep_in_memory \u001b[38;5;129;01mis\u001b[39;00m \u001b[38;5;129;01mnot\u001b[39;00m \u001b[38;5;28;01mNone\u001b[39;00m \u001b[38;5;28;01melse\u001b[39;00m is_small_dataset(builder_instance\u001b[38;5;241m.\u001b[39minfo\u001b[38;5;241m.\u001b[39mdataset_size)\n\u001b[0;32m   2594\u001b[0m )\n",
      "File \u001b[1;32mc:\\Users\\ASUS\\AppData\\Local\\Programs\\Python\\Python39\\lib\\site-packages\\datasets\\builder.py:1005\u001b[0m, in \u001b[0;36mDatasetBuilder.download_and_prepare\u001b[1;34m(self, output_dir, download_config, download_mode, verification_mode, ignore_verifications, try_from_hf_gcs, dl_manager, base_path, use_auth_token, file_format, max_shard_size, num_proc, storage_options, **download_and_prepare_kwargs)\u001b[0m\n\u001b[0;32m   1003\u001b[0m     \u001b[38;5;28;01mif\u001b[39;00m num_proc \u001b[38;5;129;01mis\u001b[39;00m \u001b[38;5;129;01mnot\u001b[39;00m \u001b[38;5;28;01mNone\u001b[39;00m:\n\u001b[0;32m   1004\u001b[0m         prepare_split_kwargs[\u001b[38;5;124m\"\u001b[39m\u001b[38;5;124mnum_proc\u001b[39m\u001b[38;5;124m\"\u001b[39m] \u001b[38;5;241m=\u001b[39m num_proc\n\u001b[1;32m-> 1005\u001b[0m     \u001b[38;5;28mself\u001b[39m\u001b[38;5;241m.\u001b[39m_download_and_prepare(\n\u001b[0;32m   1006\u001b[0m         dl_manager\u001b[38;5;241m=\u001b[39mdl_manager,\n\u001b[0;32m   1007\u001b[0m         verification_mode\u001b[38;5;241m=\u001b[39mverification_mode,\n\u001b[0;32m   1008\u001b[0m         \u001b[38;5;241m*\u001b[39m\u001b[38;5;241m*\u001b[39mprepare_split_kwargs,\n\u001b[0;32m   1009\u001b[0m         \u001b[38;5;241m*\u001b[39m\u001b[38;5;241m*\u001b[39mdownload_and_prepare_kwargs,\n\u001b[0;32m   1010\u001b[0m     )\n\u001b[0;32m   1011\u001b[0m \u001b[38;5;66;03m# Sync info\u001b[39;00m\n\u001b[0;32m   1012\u001b[0m \u001b[38;5;28mself\u001b[39m\u001b[38;5;241m.\u001b[39minfo\u001b[38;5;241m.\u001b[39mdataset_size \u001b[38;5;241m=\u001b[39m \u001b[38;5;28msum\u001b[39m(split\u001b[38;5;241m.\u001b[39mnum_bytes \u001b[38;5;28;01mfor\u001b[39;00m split \u001b[38;5;129;01min\u001b[39;00m \u001b[38;5;28mself\u001b[39m\u001b[38;5;241m.\u001b[39minfo\u001b[38;5;241m.\u001b[39msplits\u001b[38;5;241m.\u001b[39mvalues())\n",
      "File \u001b[1;32mc:\\Users\\ASUS\\AppData\\Local\\Programs\\Python\\Python39\\lib\\site-packages\\datasets\\builder.py:1100\u001b[0m, in \u001b[0;36mDatasetBuilder._download_and_prepare\u001b[1;34m(self, dl_manager, verification_mode, **prepare_split_kwargs)\u001b[0m\n\u001b[0;32m   1096\u001b[0m split_dict\u001b[38;5;241m.\u001b[39madd(split_generator\u001b[38;5;241m.\u001b[39msplit_info)\n\u001b[0;32m   1098\u001b[0m \u001b[38;5;28;01mtry\u001b[39;00m:\n\u001b[0;32m   1099\u001b[0m     \u001b[38;5;66;03m# Prepare split will record examples associated to the split\u001b[39;00m\n\u001b[1;32m-> 1100\u001b[0m     \u001b[38;5;28mself\u001b[39m\u001b[38;5;241m.\u001b[39m_prepare_split(split_generator, \u001b[38;5;241m*\u001b[39m\u001b[38;5;241m*\u001b[39mprepare_split_kwargs)\n\u001b[0;32m   1101\u001b[0m \u001b[38;5;28;01mexcept\u001b[39;00m \u001b[38;5;167;01mOSError\u001b[39;00m \u001b[38;5;28;01mas\u001b[39;00m e:\n\u001b[0;32m   1102\u001b[0m     \u001b[38;5;28;01mraise\u001b[39;00m \u001b[38;5;167;01mOSError\u001b[39;00m(\n\u001b[0;32m   1103\u001b[0m         \u001b[38;5;124m\"\u001b[39m\u001b[38;5;124mCannot find data file. \u001b[39m\u001b[38;5;124m\"\u001b[39m\n\u001b[0;32m   1104\u001b[0m         \u001b[38;5;241m+\u001b[39m (\u001b[38;5;28mself\u001b[39m\u001b[38;5;241m.\u001b[39mmanual_download_instructions \u001b[38;5;129;01mor\u001b[39;00m \u001b[38;5;124m\"\u001b[39m\u001b[38;5;124m\"\u001b[39m)\n\u001b[0;32m   1105\u001b[0m         \u001b[38;5;241m+\u001b[39m \u001b[38;5;124m\"\u001b[39m\u001b[38;5;130;01m\\n\u001b[39;00m\u001b[38;5;124mOriginal error:\u001b[39m\u001b[38;5;130;01m\\n\u001b[39;00m\u001b[38;5;124m\"\u001b[39m\n\u001b[0;32m   1106\u001b[0m         \u001b[38;5;241m+\u001b[39m \u001b[38;5;28mstr\u001b[39m(e)\n\u001b[0;32m   1107\u001b[0m     ) \u001b[38;5;28;01mfrom\u001b[39;00m \u001b[38;5;28;01mNone\u001b[39;00m\n",
      "File \u001b[1;32mc:\\Users\\ASUS\\AppData\\Local\\Programs\\Python\\Python39\\lib\\site-packages\\datasets\\builder.py:1860\u001b[0m, in \u001b[0;36mArrowBasedBuilder._prepare_split\u001b[1;34m(self, split_generator, file_format, num_proc, max_shard_size)\u001b[0m\n\u001b[0;32m   1858\u001b[0m job_id \u001b[38;5;241m=\u001b[39m \u001b[38;5;241m0\u001b[39m\n\u001b[0;32m   1859\u001b[0m \u001b[38;5;28;01mwith\u001b[39;00m pbar:\n\u001b[1;32m-> 1860\u001b[0m     \u001b[38;5;28;01mfor\u001b[39;00m job_id, done, content \u001b[38;5;129;01min\u001b[39;00m \u001b[38;5;28mself\u001b[39m\u001b[38;5;241m.\u001b[39m_prepare_split_single(\n\u001b[0;32m   1861\u001b[0m         gen_kwargs\u001b[38;5;241m=\u001b[39mgen_kwargs, job_id\u001b[38;5;241m=\u001b[39mjob_id, \u001b[38;5;241m*\u001b[39m\u001b[38;5;241m*\u001b[39m_prepare_split_args\n\u001b[0;32m   1862\u001b[0m     ):\n\u001b[0;32m   1863\u001b[0m         \u001b[38;5;28;01mif\u001b[39;00m done:\n\u001b[0;32m   1864\u001b[0m             result \u001b[38;5;241m=\u001b[39m content\n",
      "File \u001b[1;32mc:\\Users\\ASUS\\AppData\\Local\\Programs\\Python\\Python39\\lib\\site-packages\\datasets\\builder.py:1973\u001b[0m, in \u001b[0;36mArrowBasedBuilder._prepare_split_single\u001b[1;34m(self, gen_kwargs, fpath, file_format, max_shard_size, job_id)\u001b[0m\n\u001b[0;32m   1971\u001b[0m \u001b[38;5;28;01mtry\u001b[39;00m:\n\u001b[0;32m   1972\u001b[0m     _time \u001b[38;5;241m=\u001b[39m time\u001b[38;5;241m.\u001b[39mtime()\n\u001b[1;32m-> 1973\u001b[0m     \u001b[38;5;28;01mfor\u001b[39;00m _, table \u001b[38;5;129;01min\u001b[39;00m generator:\n\u001b[0;32m   1974\u001b[0m         \u001b[38;5;28;01mif\u001b[39;00m max_shard_size \u001b[38;5;129;01mis\u001b[39;00m \u001b[38;5;129;01mnot\u001b[39;00m \u001b[38;5;28;01mNone\u001b[39;00m \u001b[38;5;129;01mand\u001b[39;00m writer\u001b[38;5;241m.\u001b[39m_num_bytes \u001b[38;5;241m>\u001b[39m max_shard_size:\n\u001b[0;32m   1975\u001b[0m             num_examples, num_bytes \u001b[38;5;241m=\u001b[39m writer\u001b[38;5;241m.\u001b[39mfinalize()\n",
      "File \u001b[1;32mc:\\Users\\ASUS\\AppData\\Local\\Programs\\Python\\Python39\\lib\\site-packages\\datasets\\packaged_modules\\parquet\\parquet.py:89\u001b[0m, in \u001b[0;36mParquet._generate_tables\u001b[1;34m(self, files)\u001b[0m\n\u001b[0;32m     87\u001b[0m batch_size \u001b[38;5;241m=\u001b[39m \u001b[38;5;28mself\u001b[39m\u001b[38;5;241m.\u001b[39mconfig\u001b[38;5;241m.\u001b[39mbatch_size \u001b[38;5;129;01mor\u001b[39;00m parquet_file\u001b[38;5;241m.\u001b[39mmetadata\u001b[38;5;241m.\u001b[39mrow_group(\u001b[38;5;241m0\u001b[39m)\u001b[38;5;241m.\u001b[39mnum_rows\n\u001b[0;32m     88\u001b[0m \u001b[38;5;28;01mtry\u001b[39;00m:\n\u001b[1;32m---> 89\u001b[0m     \u001b[38;5;28;01mfor\u001b[39;00m batch_idx, record_batch \u001b[38;5;129;01min\u001b[39;00m \u001b[38;5;28menumerate\u001b[39m(\n\u001b[0;32m     90\u001b[0m         parquet_file\u001b[38;5;241m.\u001b[39miter_batches(batch_size\u001b[38;5;241m=\u001b[39mbatch_size, columns\u001b[38;5;241m=\u001b[39m\u001b[38;5;28mself\u001b[39m\u001b[38;5;241m.\u001b[39mconfig\u001b[38;5;241m.\u001b[39mcolumns)\n\u001b[0;32m     91\u001b[0m     ):\n\u001b[0;32m     92\u001b[0m         pa_table \u001b[38;5;241m=\u001b[39m pa\u001b[38;5;241m.\u001b[39mTable\u001b[38;5;241m.\u001b[39mfrom_batches([record_batch])\n\u001b[0;32m     93\u001b[0m         \u001b[38;5;66;03m# Uncomment for debugging (will print the Arrow table size and elements)\u001b[39;00m\n\u001b[0;32m     94\u001b[0m         \u001b[38;5;66;03m# logger.warning(f\"pa_table: {pa_table} num rows: {pa_table.num_rows}\")\u001b[39;00m\n\u001b[0;32m     95\u001b[0m         \u001b[38;5;66;03m# logger.warning('\\n'.join(str(pa_table.slice(i, 1).to_pydict()) for i in range(pa_table.num_rows)))\u001b[39;00m\n",
      "\u001b[1;31mKeyboardInterrupt\u001b[0m: "
     ]
    }
   ],
   "source": [
    "import os\n",
    "import pandas as pd\n",
    "from datasets import load_dataset\n",
    "\n",
    "df = pd.read_csv('extracted_code.csv', encoding='utf-8')\n",
    "\n",
    "if not os.path.exists('data'):\n",
    "    os.makedirs('data')\n",
    "\n",
    "\n",
    "for index, row in df.iterrows():\n",
    "    code_snippet = row['Code']\n",
    "    start_idx = code_snippet.find('(\"') + 2\n",
    "    end_idx = code_snippet.find('\")')\n",
    "    dataset_path = code_snippet[start_idx:end_idx]\n",
    "    \n",
    "\n",
    "    ds = load_dataset(dataset_path)\n",
    "    \n",
    "    if 'train' in ds:\n",
    "        split_name = 'train'\n",
    "    else:\n",
    "        split_name = list(ds.keys())[0]\n",
    "    \n",
    "    df_split = pd.DataFrame(ds[split_name])\n",
    "    \n",
    "\n",
    "    dataset_name = dataset_path.split(\"/\")[-1]\n",
    "    csv_path = f\"data/{dataset_name}_{split_name}.csv\"\n",
    "    df_split.to_csv(csv_path, index=False)\n",
    "    \n",
    "    print(f\"Dataset saved to {csv_path}\")\n"
   ]
  }
 ],
 "metadata": {
  "kernelspec": {
   "display_name": "Python 3",
   "language": "python",
   "name": "python3"
  },
  "language_info": {
   "codemirror_mode": {
    "name": "ipython",
    "version": 3
   },
   "file_extension": ".py",
   "mimetype": "text/x-python",
   "name": "python",
   "nbconvert_exporter": "python",
   "pygments_lexer": "ipython3",
   "version": "3.9.1"
  }
 },
 "nbformat": 4,
 "nbformat_minor": 2
}
